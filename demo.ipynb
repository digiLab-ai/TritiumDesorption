{
 "cells": [
  {
   "cell_type": "markdown",
   "metadata": {
    "@deathbeds/jupyterlab-fonts": {
     "styles": {
      "": {
       "body[data-jp-deck-mode='presenting'] &": {
        "opacity": null,
        "zoom": "315%"
       }
      }
     }
    },
    "editable": true,
    "slideshow": {
     "slide_type": "subslide"
    },
    "tags": []
   },
   "source": [
    "# Predicting Tritium Thermo-Desorption Spectra"
   ]
  },
  {
   "cell_type": "markdown",
   "metadata": {
    "@deathbeds/jupyterlab-fonts": {
     "styles": {
      "": {
       "body[data-jp-deck-mode='presenting'] &": {
        "opacity": null,
        "zoom": "315%"
       }
      }
     }
    },
    "editable": true,
    "slideshow": {
     "slide_type": "subslide"
    },
    "tags": []
   },
   "source": [
    "___"
   ]
  },
  {
   "cell_type": "markdown",
   "metadata": {
    "editable": true,
    "slideshow": {
     "slide_type": "slide"
    },
    "tags": []
   },
   "source": [
    "### Context"
   ]
  },
  {
   "cell_type": "markdown",
   "metadata": {
    "editable": true,
    "slideshow": {
     "slide_type": null
    },
    "tags": []
   },
   "source": [
    "Tritium is an isotope of Hydrogen used as a fuel in fusion research. In testing, the reactor walls are bombarded by tritium isotopes, which enter the metal lattice, and travel through diffusion.\n",
    "\n",
    "When a reactor wall is removed, the trapped tritium is a huge threat. It is radiactive and will slowly escape into the atmosphere, potentialy causing harm. The cost of decomissioning tritiated metal is estimated at $5,000,000 per gram of tritium. This massive cost makes understanding the behaviour of different materials valuable."
   ]
  },
  {
   "cell_type": "markdown",
   "metadata": {},
   "source": [
    "### Trapping Sites\n",
    "\n",
    "Irregularities in the lattice structure exist. Tritium atoms can become trapped in areas near these irregularities by forces exerted by the metal ions. These are known as trapping sites, and they cause the material to retain tritium indefinatly. Without increasing the energy of the system, tritium cannot escape.\n",
    "\n",
    "The structure of the metal lattice means there is a limited number of trapping site types. Each type has a characteristic energy, below which tirium atoms escaping is impossible."
   ]
  },
  {
   "cell_type": "markdown",
   "metadata": {},
   "source": [
    "<div>\n",
    "<img src=\"resources/images/lattice.png\" width=\"800\"/>\n",
    "<center>\n",
    "    <a href=\"https://theses.hal.science/tel-04004369\"> Interactions of solute hydrogen in tungsten. [Rémi Delaporte-Mathurin]</a>\n",
    "<center/>\n",
    "</div>"
   ]
  },
  {
   "cell_type": "markdown",
   "metadata": {
    "editable": true,
    "slideshow": {
     "slide_type": "slide"
    },
    "tags": []
   },
   "source": [
    "### Thermal-Desorption Spectrometry\n",
    "\n",
    "When tritiated metal is heated, the tritium gains enough energy to escape the trapping sides and is free to diffuse out of the metal. This process is called desorption and it's measured using Thermal-Desorption (TD) Spectrometry .\n",
    "\n",
    "TD spectrometry experiments involve slowly heating tritiated metal, and measuring the amount of tritium that escapes over a given time period. The result is the amount of tritium exiting a given area of the sample over a known time interval as a function of temperature.\n",
    "\n",
    "$$\n",
    "D = f(T)\n",
    "$$\n",
    "\n",
    "TD spectrum of samples changes with material because differences in their composition and structure result in different energies required to escape their trapping sites.\n",
    "\n",
    "The amount of tritium in a sample and its TD spectrum are reliant on the energy $E_i$ needed to escape a type of trapping site $i$, and the number of the trapping sites in a known area of the material $n_i$."
   ]
  },
  {
   "cell_type": "markdown",
   "metadata": {
    "editable": true,
    "slideshow": {
     "slide_type": "skip"
    },
    "tags": []
   },
   "source": [
    "*** "
   ]
  },
  {
   "cell_type": "markdown",
   "metadata": {
    "editable": true,
    "slideshow": {
     "slide_type": "slide"
    },
    "tags": []
   },
   "source": [
    "### ML Challenge \n",
    "\n",
    "Researchers are interested in identifying the trapping energies and desnities $E_i$ and $n_i$ of the materials they are using in their reactors to minimise the amount of tritium trapped in the walls of their future designs.\n",
    "\n",
    "They have developed a simulation of the TD spectrometry experiment that can calculate the TD spectrum of a given set of trapping enegies and densities. The simulation takes a very long time to complete, even on powerful computers.\n",
    "\n",
    "The aim then, is to use the limited number of simulated experiments to identify the trapping energies and densities that produced the real TD spectrum of a sample."
   ]
  },
  {
   "cell_type": "markdown",
   "metadata": {
    "editable": true,
    "slideshow": {
     "slide_type": "slide"
    },
    "tags": []
   },
   "source": [
    "### twinLab Solution\n",
    "\n",
    "twinLab is able to use a trained emulator to indenitfy the inputs that were most likely to produce a given output using the `emulator.calibrate`.\n",
    "\n",
    "To test this we will:\n",
    "\n",
    "1. Split our Thermal Desrption Dataset into training and test data.\n",
    "2. Train our emulator to predict Thermal Desrption Spectrum from $E_i$ and $n_i$.\n",
    "3. Use `twinlab.calibrate` to identify the $E_i$ and $n_i$ that produced the test data outputs.\n",
    "4. Compare the `twinLab` calibration and the true test data inputs.\n",
    "\n"
   ]
  },
  {
   "cell_type": "markdown",
   "metadata": {
    "editable": true,
    "slideshow": {
     "slide_type": "skip"
    },
    "tags": []
   },
   "source": [
    "***"
   ]
  },
  {
   "cell_type": "markdown",
   "metadata": {
    "editable": true,
    "slideshow": {
     "slide_type": "slide"
    },
    "tags": []
   },
   "source": [
    "### Imports"
   ]
  },
  {
   "cell_type": "code",
   "execution_count": 1,
   "metadata": {
    "@deathbeds/jupyterlab-fonts": {
     "styles": {
      "": {
       "body[data-jp-deck-mode='presenting'] &": {
        "height": "33.19255999902242%",
        "left": "13.392312385600977%",
        "position": "fixed",
        "top": "33.315954118873826%",
        "width": "73.88752907641855%"
       }
      }
     }
    },
    "editable": true,
    "jupyterlab-deck": {
     "layer": "slide"
    },
    "slideshow": {
     "slide_type": ""
    },
    "tags": []
   },
   "outputs": [
    {
     "name": "stdout",
     "output_type": "stream",
     "text": [
      "\n",
      "          ====== TwinLab Client Initialisation ======\n",
      "          Version     : 2.9.0\n",
      "          Server      : https://twinlab.digilab.co.uk\n",
      "          Environment : /Users/joe/repos/FusionEnergy/.env\n",
      "\n"
     ]
    }
   ],
   "source": [
    "import twinlab\n",
    "\n",
    "import numpy as np\n",
    "import pandas as pd\n",
    "import matplotlib.pyplot as plt\n",
    "\n",
    "from fusion_energy.plot import plot_test, style_axes"
   ]
  },
  {
   "cell_type": "markdown",
   "metadata": {
    "editable": true,
    "slideshow": {
     "slide_type": "skip"
    },
    "tags": []
   },
   "source": [
    "***"
   ]
  },
  {
   "cell_type": "markdown",
   "metadata": {
    "editable": true,
    "slideshow": {
     "slide_type": "slide"
    },
    "tags": []
   },
   "source": [
    "### Downloading Data\n",
    "\n",
    "The dataset is available on the `twinLab` cloud as an example. "
   ]
  },
  {
   "cell_type": "code",
   "execution_count": 2,
   "metadata": {
    "editable": true,
    "slideshow": {
     "slide_type": ""
    },
    "tags": []
   },
   "outputs": [],
   "source": [
    "data = twinlab.load_example_dataset('tritium-desorption', verbose = False)"
   ]
  },
  {
   "cell_type": "markdown",
   "metadata": {
    "editable": true,
    "slideshow": {
     "slide_type": "skip"
    },
    "tags": []
   },
   "source": [
    "***"
   ]
  },
  {
   "cell_type": "markdown",
   "metadata": {
    "editable": true,
    "slideshow": {
     "slide_type": "slide"
    },
    "tags": []
   },
   "source": [
    "### Inputs\n",
    "\n",
    "The inputs $\\vec{x}$ are $(E_1, E_2, E_3, n1, n2)$\n"
   ]
  },
  {
   "cell_type": "code",
   "execution_count": 3,
   "metadata": {
    "editable": true,
    "slideshow": {
     "slide_type": ""
    },
    "tags": []
   },
   "outputs": [
    {
     "data": {
      "text/html": [
       "<div>\n",
       "<style scoped>\n",
       "    .dataframe tbody tr th:only-of-type {\n",
       "        vertical-align: middle;\n",
       "    }\n",
       "\n",
       "    .dataframe tbody tr th {\n",
       "        vertical-align: top;\n",
       "    }\n",
       "\n",
       "    .dataframe thead th {\n",
       "        text-align: right;\n",
       "    }\n",
       "</style>\n",
       "<table border=\"1\" class=\"dataframe\">\n",
       "  <thead>\n",
       "    <tr style=\"text-align: right;\">\n",
       "      <th></th>\n",
       "      <th>E1</th>\n",
       "      <th>E2</th>\n",
       "      <th>E3</th>\n",
       "      <th>n1</th>\n",
       "      <th>n2</th>\n",
       "    </tr>\n",
       "  </thead>\n",
       "  <tbody>\n",
       "    <tr>\n",
       "      <th>0</th>\n",
       "      <td>0.726163</td>\n",
       "      <td>1.248766</td>\n",
       "      <td>1.128671</td>\n",
       "      <td>0.002004</td>\n",
       "      <td>0.000307</td>\n",
       "    </tr>\n",
       "    <tr>\n",
       "      <th>1</th>\n",
       "      <td>0.787837</td>\n",
       "      <td>0.925174</td>\n",
       "      <td>1.226117</td>\n",
       "      <td>0.001564</td>\n",
       "      <td>0.000768</td>\n",
       "    </tr>\n",
       "    <tr>\n",
       "      <th>2</th>\n",
       "      <td>0.710103</td>\n",
       "      <td>0.902457</td>\n",
       "      <td>1.558539</td>\n",
       "      <td>0.004860</td>\n",
       "      <td>0.000613</td>\n",
       "    </tr>\n",
       "  </tbody>\n",
       "</table>\n",
       "</div>"
      ],
      "text/plain": [
       "         E1        E2        E3        n1        n2\n",
       "0  0.726163  1.248766  1.128671  0.002004  0.000307\n",
       "1  0.787837  0.925174  1.226117  0.001564  0.000768\n",
       "2  0.710103  0.902457  1.558539  0.004860  0.000613"
      ]
     },
     "execution_count": 3,
     "metadata": {},
     "output_type": "execute_result"
    }
   ],
   "source": [
    "inputs = data.columns[:5].to_list()\n",
    "data[inputs][:3]"
   ]
  },
  {
   "cell_type": "markdown",
   "metadata": {
    "slideshow": {
     "slide_type": "skip"
    }
   },
   "source": [
    "___"
   ]
  },
  {
   "cell_type": "markdown",
   "metadata": {
    "editable": true,
    "slideshow": {
     "slide_type": "slide"
    },
    "tags": []
   },
   "source": [
    "### Outputs\n",
    "\n",
    "Every simulation $D = f(T)$ outputs 624 many the tritium desorption rates $D_n$ at each temperature $T_n$. \n",
    "\n",
    "Our temperatures are equally spaced and can be calculated using numpy's `np.linspace`.\n"
   ]
  },
  {
   "cell_type": "markdown",
   "metadata": {
    "editable": true,
    "slideshow": {
     "slide_type": "skip"
    },
    "tags": []
   },
   "source": [
    "___"
   ]
  },
  {
   "cell_type": "code",
   "execution_count": 4,
   "metadata": {},
   "outputs": [],
   "source": [
    "outputs = [f\"D{n}\" for n in range(624)]"
   ]
  },
  {
   "cell_type": "code",
   "execution_count": 5,
   "metadata": {
    "editable": true,
    "slideshow": {
     "slide_type": ""
    },
    "tags": []
   },
   "outputs": [
    {
     "data": {
      "text/html": [
       "<div>\n",
       "<style scoped>\n",
       "    .dataframe tbody tr th:only-of-type {\n",
       "        vertical-align: middle;\n",
       "    }\n",
       "\n",
       "    .dataframe tbody tr th {\n",
       "        vertical-align: top;\n",
       "    }\n",
       "\n",
       "    .dataframe thead th {\n",
       "        text-align: right;\n",
       "    }\n",
       "</style>\n",
       "<table border=\"1\" class=\"dataframe\">\n",
       "  <thead>\n",
       "    <tr style=\"text-align: right;\">\n",
       "      <th></th>\n",
       "      <th>T0</th>\n",
       "      <th>T1</th>\n",
       "      <th>T2</th>\n",
       "      <th>T3</th>\n",
       "      <th>T4</th>\n",
       "      <th>T5</th>\n",
       "      <th>T6</th>\n",
       "      <th>T7</th>\n",
       "      <th>T8</th>\n",
       "      <th>T9</th>\n",
       "      <th>...</th>\n",
       "      <th>T614</th>\n",
       "      <th>T615</th>\n",
       "      <th>T616</th>\n",
       "      <th>T617</th>\n",
       "      <th>T618</th>\n",
       "      <th>T619</th>\n",
       "      <th>T620</th>\n",
       "      <th>T621</th>\n",
       "      <th>T622</th>\n",
       "      <th>T623</th>\n",
       "    </tr>\n",
       "  </thead>\n",
       "  <tbody>\n",
       "    <tr>\n",
       "      <th>0</th>\n",
       "      <td>300.0</td>\n",
       "      <td>300.802568</td>\n",
       "      <td>301.605136</td>\n",
       "      <td>302.407705</td>\n",
       "      <td>303.210273</td>\n",
       "      <td>304.012841</td>\n",
       "      <td>304.815409</td>\n",
       "      <td>305.617978</td>\n",
       "      <td>306.420546</td>\n",
       "      <td>307.223114</td>\n",
       "      <td>...</td>\n",
       "      <td>792.776886</td>\n",
       "      <td>793.579454</td>\n",
       "      <td>794.382022</td>\n",
       "      <td>795.184591</td>\n",
       "      <td>795.987159</td>\n",
       "      <td>796.789727</td>\n",
       "      <td>797.592295</td>\n",
       "      <td>798.394864</td>\n",
       "      <td>799.197432</td>\n",
       "      <td>800.0</td>\n",
       "    </tr>\n",
       "  </tbody>\n",
       "</table>\n",
       "<p>1 rows × 624 columns</p>\n",
       "</div>"
      ],
      "text/plain": [
       "      T0          T1          T2          T3          T4          T5  \\\n",
       "0  300.0  300.802568  301.605136  302.407705  303.210273  304.012841   \n",
       "\n",
       "           T6          T7          T8          T9  ...        T614  \\\n",
       "0  304.815409  305.617978  306.420546  307.223114  ...  792.776886   \n",
       "\n",
       "         T615        T616        T617        T618        T619        T620  \\\n",
       "0  793.579454  794.382022  795.184591  795.987159  796.789727  797.592295   \n",
       "\n",
       "         T621        T622   T623  \n",
       "0  798.394864  799.197432  800.0  \n",
       "\n",
       "[1 rows x 624 columns]"
      ]
     },
     "execution_count": 5,
     "metadata": {},
     "output_type": "execute_result"
    }
   ],
   "source": [
    "temperatures = pd.DataFrame(np.linspace(300, 800, len(outputs))).T\n",
    "temperatures.columns = [f\"T{n}\" for n in range(len(outputs))]\n",
    "temperatures"
   ]
  },
  {
   "cell_type": "code",
   "execution_count": 6,
   "metadata": {
    "editable": true,
    "slideshow": {
     "slide_type": ""
    },
    "tags": []
   },
   "outputs": [],
   "source": [
    "data.columns = inputs + outputs"
   ]
  },
  {
   "cell_type": "code",
   "execution_count": 7,
   "metadata": {
    "editable": true,
    "scrolled": true,
    "slideshow": {
     "slide_type": ""
    },
    "tags": []
   },
   "outputs": [
    {
     "data": {
      "text/html": [
       "<div>\n",
       "<style scoped>\n",
       "    .dataframe tbody tr th:only-of-type {\n",
       "        vertical-align: middle;\n",
       "    }\n",
       "\n",
       "    .dataframe tbody tr th {\n",
       "        vertical-align: top;\n",
       "    }\n",
       "\n",
       "    .dataframe thead th {\n",
       "        text-align: right;\n",
       "    }\n",
       "</style>\n",
       "<table border=\"1\" class=\"dataframe\">\n",
       "  <thead>\n",
       "    <tr style=\"text-align: right;\">\n",
       "      <th></th>\n",
       "      <th>D0</th>\n",
       "      <th>D1</th>\n",
       "      <th>D2</th>\n",
       "      <th>D3</th>\n",
       "      <th>D4</th>\n",
       "      <th>D5</th>\n",
       "      <th>D6</th>\n",
       "      <th>D7</th>\n",
       "      <th>D8</th>\n",
       "      <th>D9</th>\n",
       "      <th>...</th>\n",
       "      <th>D614</th>\n",
       "      <th>D615</th>\n",
       "      <th>D616</th>\n",
       "      <th>D617</th>\n",
       "      <th>D618</th>\n",
       "      <th>D619</th>\n",
       "      <th>D620</th>\n",
       "      <th>D621</th>\n",
       "      <th>D622</th>\n",
       "      <th>D623</th>\n",
       "    </tr>\n",
       "  </thead>\n",
       "  <tbody>\n",
       "    <tr>\n",
       "      <th>0</th>\n",
       "      <td>1.511613e+17</td>\n",
       "      <td>1.626357e+17</td>\n",
       "      <td>1.749599e+17</td>\n",
       "      <td>1.881609e+17</td>\n",
       "      <td>2.022474e+17</td>\n",
       "      <td>2.171753e+17</td>\n",
       "      <td>2.329431e+17</td>\n",
       "      <td>2.501679e+17</td>\n",
       "      <td>2.681171e+17</td>\n",
       "      <td>2.873808e+17</td>\n",
       "      <td>...</td>\n",
       "      <td>2.318606e+17</td>\n",
       "      <td>2.304607e+17</td>\n",
       "      <td>2.290609e+17</td>\n",
       "      <td>2.276611e+17</td>\n",
       "      <td>2.262613e+17</td>\n",
       "      <td>2.248615e+17</td>\n",
       "      <td>2.234616e+17</td>\n",
       "      <td>2.220618e+17</td>\n",
       "      <td>2.206620e+17</td>\n",
       "      <td>2.192622e+17</td>\n",
       "    </tr>\n",
       "    <tr>\n",
       "      <th>1</th>\n",
       "      <td>7.621430e+16</td>\n",
       "      <td>8.255297e+16</td>\n",
       "      <td>8.942421e+16</td>\n",
       "      <td>9.684174e+16</td>\n",
       "      <td>1.048160e+17</td>\n",
       "      <td>1.133235e+17</td>\n",
       "      <td>1.223659e+17</td>\n",
       "      <td>1.323483e+17</td>\n",
       "      <td>1.428036e+17</td>\n",
       "      <td>1.541191e+17</td>\n",
       "      <td>...</td>\n",
       "      <td>2.728998e+16</td>\n",
       "      <td>2.706896e+16</td>\n",
       "      <td>2.684793e+16</td>\n",
       "      <td>2.662690e+16</td>\n",
       "      <td>2.640587e+16</td>\n",
       "      <td>2.618484e+16</td>\n",
       "      <td>2.596381e+16</td>\n",
       "      <td>2.574279e+16</td>\n",
       "      <td>2.552176e+16</td>\n",
       "      <td>2.530073e+16</td>\n",
       "    </tr>\n",
       "    <tr>\n",
       "      <th>2</th>\n",
       "      <td>2.376907e+17</td>\n",
       "      <td>2.553641e+17</td>\n",
       "      <td>2.743015e+17</td>\n",
       "      <td>2.945655e+17</td>\n",
       "      <td>3.161688e+17</td>\n",
       "      <td>3.390432e+17</td>\n",
       "      <td>3.631858e+17</td>\n",
       "      <td>3.895231e+17</td>\n",
       "      <td>4.169486e+17</td>\n",
       "      <td>4.463476e+17</td>\n",
       "      <td>...</td>\n",
       "      <td>2.079730e+16</td>\n",
       "      <td>2.078486e+16</td>\n",
       "      <td>2.077242e+16</td>\n",
       "      <td>2.075998e+16</td>\n",
       "      <td>2.074754e+16</td>\n",
       "      <td>2.073510e+16</td>\n",
       "      <td>2.072265e+16</td>\n",
       "      <td>2.071021e+16</td>\n",
       "      <td>2.069777e+16</td>\n",
       "      <td>2.068533e+16</td>\n",
       "    </tr>\n",
       "  </tbody>\n",
       "</table>\n",
       "<p>3 rows × 624 columns</p>\n",
       "</div>"
      ],
      "text/plain": [
       "             D0            D1            D2            D3            D4  \\\n",
       "0  1.511613e+17  1.626357e+17  1.749599e+17  1.881609e+17  2.022474e+17   \n",
       "1  7.621430e+16  8.255297e+16  8.942421e+16  9.684174e+16  1.048160e+17   \n",
       "2  2.376907e+17  2.553641e+17  2.743015e+17  2.945655e+17  3.161688e+17   \n",
       "\n",
       "             D5            D6            D7            D8            D9  ...  \\\n",
       "0  2.171753e+17  2.329431e+17  2.501679e+17  2.681171e+17  2.873808e+17  ...   \n",
       "1  1.133235e+17  1.223659e+17  1.323483e+17  1.428036e+17  1.541191e+17  ...   \n",
       "2  3.390432e+17  3.631858e+17  3.895231e+17  4.169486e+17  4.463476e+17  ...   \n",
       "\n",
       "           D614          D615          D616          D617          D618  \\\n",
       "0  2.318606e+17  2.304607e+17  2.290609e+17  2.276611e+17  2.262613e+17   \n",
       "1  2.728998e+16  2.706896e+16  2.684793e+16  2.662690e+16  2.640587e+16   \n",
       "2  2.079730e+16  2.078486e+16  2.077242e+16  2.075998e+16  2.074754e+16   \n",
       "\n",
       "           D619          D620          D621          D622          D623  \n",
       "0  2.248615e+17  2.234616e+17  2.220618e+17  2.206620e+17  2.192622e+17  \n",
       "1  2.618484e+16  2.596381e+16  2.574279e+16  2.552176e+16  2.530073e+16  \n",
       "2  2.073510e+16  2.072265e+16  2.071021e+16  2.069777e+16  2.068533e+16  \n",
       "\n",
       "[3 rows x 624 columns]"
      ]
     },
     "execution_count": 7,
     "metadata": {},
     "output_type": "execute_result"
    }
   ],
   "source": [
    "data[outputs][:3]"
   ]
  },
  {
   "cell_type": "markdown",
   "metadata": {
    "editable": true,
    "slideshow": {
     "slide_type": "skip"
    },
    "tags": []
   },
   "source": [
    "***"
   ]
  },
  {
   "cell_type": "markdown",
   "metadata": {
    "editable": true,
    "slideshow": {
     "slide_type": "slide"
    },
    "tags": []
   },
   "source": [
    "### Uploading data\n",
    "\n",
    "We'll create a copy of the example dataset in the `twinLab` cloud to work with."
   ]
  },
  {
   "cell_type": "code",
   "execution_count": 8,
   "metadata": {
    "editable": true,
    "slideshow": {
     "slide_type": ""
    },
    "tags": []
   },
   "outputs": [],
   "source": [
    "dataset = twinlab.Dataset(\"tritium_desorption\")\n",
    "dataset.upload(data, verbose = False)"
   ]
  },
  {
   "cell_type": "markdown",
   "metadata": {
    "slideshow": {
     "slide_type": "skip"
    }
   },
   "source": [
    "***"
   ]
  },
  {
   "cell_type": "markdown",
   "metadata": {
    "editable": true,
    "slideshow": {
     "slide_type": ""
    },
    "tags": []
   },
   "source": [
    "### Workflow\n",
    "\n"
   ]
  },
  {
   "cell_type": "markdown",
   "metadata": {
    "editable": true,
    "slideshow": {
     "slide_type": ""
    },
    "tags": []
   },
   "source": [
    "### Dimensionality reduction\n",
    "\n",
    "Our dataset has 624 outputs or ***dimensions***, which makes our problem complicated. Luckily we can make it simpler using `twinLab`. \n",
    "\n",
    "`twinLab` can learn to reperesent our outputs in fewer dimensions. This makes training and evaluating our emulator faster and cheaper. `twinLab` then reconstructs the more complex outputs when you need them, and you won't be able to tell the difference.\n",
    "\n",
    "To check if this will work for our problem, we need to:\n",
    "\n",
    "1. See how well our data can be represented using fewer dimensions.\n",
    "2. Select a sensible number of dimensions to use.\n",
    "\n",
    "We can do this using the `analyse_variance` function of our `twinLab` dataset, which tells us how well we can represent our original data using a given number of dimensions."
   ]
  },
  {
   "cell_type": "code",
   "execution_count": 9,
   "metadata": {
    "@deathbeds/jupyterlab-fonts": {
     "styles": {
      "": {
       "body[data-jp-deck-mode='presenting'] &": {
        "height": null,
        "left": null,
        "position": null,
        "top": null,
        "width": null
       }
      }
     }
    },
    "editable": true,
    "slideshow": {
     "slide_type": "slide"
    },
    "tags": []
   },
   "outputs": [
    {
     "data": {
      "text/html": [
       "<div>\n",
       "<style scoped>\n",
       "    .dataframe tbody tr th:only-of-type {\n",
       "        vertical-align: middle;\n",
       "    }\n",
       "\n",
       "    .dataframe tbody tr th {\n",
       "        vertical-align: top;\n",
       "    }\n",
       "\n",
       "    .dataframe thead th {\n",
       "        text-align: right;\n",
       "    }\n",
       "</style>\n",
       "<table border=\"1\" class=\"dataframe\">\n",
       "  <thead>\n",
       "    <tr style=\"text-align: right;\">\n",
       "      <th></th>\n",
       "      <th>Number of Dimensions</th>\n",
       "      <th>Cumulative Variance</th>\n",
       "    </tr>\n",
       "  </thead>\n",
       "  <tbody>\n",
       "    <tr>\n",
       "      <th>1</th>\n",
       "      <td>1</td>\n",
       "      <td>0.265579</td>\n",
       "    </tr>\n",
       "    <tr>\n",
       "      <th>2</th>\n",
       "      <td>2</td>\n",
       "      <td>0.734992</td>\n",
       "    </tr>\n",
       "    <tr>\n",
       "      <th>3</th>\n",
       "      <td>3</td>\n",
       "      <td>0.895238</td>\n",
       "    </tr>\n",
       "    <tr>\n",
       "      <th>4</th>\n",
       "      <td>4</td>\n",
       "      <td>0.969070</td>\n",
       "    </tr>\n",
       "    <tr>\n",
       "      <th>5</th>\n",
       "      <td>5</td>\n",
       "      <td>0.989724</td>\n",
       "    </tr>\n",
       "    <tr>\n",
       "      <th>6</th>\n",
       "      <td>6</td>\n",
       "      <td>0.996053</td>\n",
       "    </tr>\n",
       "    <tr>\n",
       "      <th>7</th>\n",
       "      <td>7</td>\n",
       "      <td>0.998313</td>\n",
       "    </tr>\n",
       "    <tr>\n",
       "      <th>8</th>\n",
       "      <td>8</td>\n",
       "      <td>0.999210</td>\n",
       "    </tr>\n",
       "    <tr>\n",
       "      <th>9</th>\n",
       "      <td>9</td>\n",
       "      <td>0.999563</td>\n",
       "    </tr>\n",
       "    <tr>\n",
       "      <th>10</th>\n",
       "      <td>10</td>\n",
       "      <td>0.999722</td>\n",
       "    </tr>\n",
       "  </tbody>\n",
       "</table>\n",
       "</div>"
      ],
      "text/plain": [
       "    Number of Dimensions  Cumulative Variance\n",
       "1                      1             0.265579\n",
       "2                      2             0.734992\n",
       "3                      3             0.895238\n",
       "4                      4             0.969070\n",
       "5                      5             0.989724\n",
       "6                      6             0.996053\n",
       "7                      7             0.998313\n",
       "8                      8             0.999210\n",
       "9                      9             0.999563\n",
       "10                    10             0.999722"
      ]
     },
     "execution_count": 9,
     "metadata": {},
     "output_type": "execute_result"
    }
   ],
   "source": [
    "variance = dataset.analyse_variance(outputs)[1:11]\n",
    "variance"
   ]
  },
  {
   "cell_type": "code",
   "execution_count": 10,
   "metadata": {
    "@deathbeds/jupyterlab-fonts": {
     "styles": {
      "": {
       "body[data-jp-deck-mode='presenting'] &": {
        "height": null,
        "left": null,
        "position": null,
        "top": null,
        "width": null
       }
      }
     }
    },
    "editable": true,
    "slideshow": {
     "slide_type": "slide"
    },
    "tags": []
   },
   "outputs": [],
   "source": [
    "number_dimensions = variance['Number of Dimensions'][1:11]\n",
    "cumulative_variance = variance['Cumulative Variance'][1:10]"
   ]
  },
  {
   "cell_type": "code",
   "execution_count": 11,
   "metadata": {
    "@deathbeds/jupyterlab-fonts": {
     "styles": {
      "": {
       "body[data-jp-deck-mode='presenting'] &": {
        "height": null,
        "left": null,
        "position": null,
        "top": null,
        "width": null
       }
      }
     }
    },
    "editable": false,
    "slideshow": {
     "slide_type": ""
    },
    "tags": []
   },
   "outputs": [
    {
     "data": {
      "image/png": "[encoded data removed]",
      "text/plain": [
       "<Figure size 640x480 with 1 Axes>"
      ]
     },
     "metadata": {},
     "output_type": "display_data"
    }
   ],
   "source": [
    "plt.plot(number_dimensions, cumulative_variance, 'kx--')\n",
    "plt.ylabel(\"Cumulative Variance\")\n",
    "plt.xlabel(\"Number of Dimensions\")\n",
    "style_axes(plt.gca())\n",
    "plt.show()"
   ]
  },
  {
   "cell_type": "markdown",
   "metadata": {
    "editable": true,
    "slideshow": {
     "slide_type": "skip"
    },
    "tags": []
   },
   "source": [
    "\n",
    "*** "
   ]
  },
  {
   "cell_type": "markdown",
   "metadata": {
    "editable": true,
    "slideshow": {
     "slide_type": "slide"
    },
    "tags": []
   },
   "source": [
    "### Emulation"
   ]
  },
  {
   "attachments": {},
   "cell_type": "markdown",
   "metadata": {
    "editable": true,
    "slideshow": {
     "slide_type": ""
    },
    "tags": []
   },
   "source": [
    "Our emulator will use an input $(E_1, E_2, E_3, n_1, n_2)$ to predict the desorption rate and the uncertainty at every temperature. This is a functional emulator because each input corrasponds to the output of a function.\n",
    "\n",
    "Before we can start training, we will set aside 20% of our data to test our emulator. This data won't be used in training and will be used to check how our emulator performs on \"new\" data.\n",
    "\n",
    "<!-- We will use a `single_task_gp` estimator, because ...\n",
    " how the emulator performs on new inputs.\n",
    " -->\n",
    "\n",
    "To get started we will:\n",
    "1. Create an emulator on the `twinlab` cloud."
   ]
  },
  {
   "cell_type": "code",
   "execution_count": 12,
   "metadata": {
    "editable": true,
    "slideshow": {
     "slide_type": ""
    },
    "tags": []
   },
   "outputs": [],
   "source": [
    "emulator = twinlab.Emulator('tritium_desorption') "
   ]
  },
  {
   "cell_type": "markdown",
   "metadata": {},
   "source": [
    "2. Set our training parameters."
   ]
  },
  {
   "cell_type": "code",
   "execution_count": 13,
   "metadata": {
    "editable": true,
    "slideshow": {
     "slide_type": ""
    },
    "tags": []
   },
   "outputs": [],
   "source": [
    "train_test_ratio = 0.8\n",
    "output_retained_dimensions = 8"
   ]
  },
  {
   "cell_type": "code",
   "execution_count": 14,
   "metadata": {
    "editable": true,
    "slideshow": {
     "slide_type": ""
    },
    "tags": []
   },
   "outputs": [],
   "source": [
    "train_params = twinlab.TrainParams(\n",
    "    train_test_ratio = train_test_ratio,\n",
    "    output_retained_dimensions = output_retained_dimensions,\n",
    "    seed = 42\n",
    ")"
   ]
  },
  {
   "cell_type": "markdown",
   "metadata": {
    "editable": true,
    "slideshow": {
     "slide_type": "slide"
    },
    "tags": []
   },
   "source": [
    "3. Start!"
   ]
  },
  {
   "cell_type": "code",
   "execution_count": 15,
   "metadata": {
    "editable": true,
    "slideshow": {
     "slide_type": ""
    },
    "tags": []
   },
   "outputs": [],
   "source": [
    "emulator.train(dataset, inputs, outputs, train_params, verbose = False)"
   ]
  },
  {
   "cell_type": "markdown",
   "metadata": {
    "editable": true,
    "slideshow": {
     "slide_type": "slide"
    },
    "tags": []
   },
   "source": [
    "### Score\n",
    "\n",
    "Now the emulator is trained, we can use `emulator.score` to see how well it performs.\n",
    "We're going to use the Root Mean Squared Error (MSE) metric."
   ]
  },
  {
   "cell_type": "code",
   "execution_count": 16,
   "metadata": {
    "editable": true,
    "slideshow": {
     "slide_type": ""
    },
    "tags": []
   },
   "outputs": [
    {
     "ename": "NameError",
     "evalue": "name 'tl' is not defined",
     "output_type": "error",
     "traceback": [
      "\u001b[0;31m---------------------------------------------------------------------------\u001b[0m",
      "\u001b[0;31mNameError\u001b[0m                                 Traceback (most recent call last)",
      "Cell \u001b[0;32mIn[16], line 1\u001b[0m\n\u001b[0;32m----> 1\u001b[0m rmse \u001b[38;5;241m=\u001b[39m np\u001b[38;5;241m.\u001b[39msqrt(emulator\u001b[38;5;241m.\u001b[39mscore(\u001b[43mtl\u001b[49m\u001b[38;5;241m.\u001b[39mScoreParams(metric \u001b[38;5;241m=\u001b[39m \u001b[38;5;124m'\u001b[39m\u001b[38;5;124mRMSE\u001b[39m\u001b[38;5;124m'\u001b[39m, combined_score \u001b[38;5;241m=\u001b[39m \u001b[38;5;28;01mTrue\u001b[39;00m)))\n\u001b[1;32m      2\u001b[0m \u001b[38;5;28mprint\u001b[39m(\u001b[38;5;124mf\u001b[39m\u001b[38;5;124m\"\u001b[39m\u001b[38;5;124mRMSE  = \u001b[39m\u001b[38;5;132;01m{\u001b[39;00mrmse\u001b[38;5;132;01m:\u001b[39;00m\u001b[38;5;124m.3e\u001b[39m\u001b[38;5;132;01m}\u001b[39;00m\u001b[38;5;124m\"\u001b[39m)\n",
      "\u001b[0;31mNameError\u001b[0m: name 'tl' is not defined"
     ]
    }
   ],
   "source": [
    "rmse = np.sqrt(emulator.score(tl.ScoreParams(metric = 'RMSE', combined_score = True)))\n",
    "print(f\"RMSE  = {rmse:.3e}\")"
   ]
  },
  {
   "cell_type": "code",
   "execution_count": null,
   "metadata": {
    "editable": true,
    "slideshow": {
     "slide_type": ""
    },
    "tags": []
   },
   "outputs": [],
   "source": [
    "test_data = emulator.view_test_data()"
   ]
  },
  {
   "cell_type": "code",
   "execution_count": null,
   "metadata": {
    "editable": true,
    "slideshow": {
     "slide_type": ""
    },
    "tags": []
   },
   "outputs": [],
   "source": [
    "mean, std = emulator.predict(test_data[inputs], verbose=False)"
   ]
  },
  {
   "cell_type": "markdown",
   "metadata": {
    "editable": true,
    "slideshow": {
     "slide_type": "skip"
    },
    "tags": []
   },
   "source": [
    "*** "
   ]
  },
  {
   "cell_type": "markdown",
   "metadata": {
    "editable": true,
    "slideshow": {
     "slide_type": "slide"
    },
    "tags": []
   },
   "source": [
    "### Test the emulator "
   ]
  },
  {
   "cell_type": "code",
   "execution_count": null,
   "metadata": {},
   "outputs": [],
   "source": [
    "i = np.random.randint(0, test_data.shape[0])"
   ]
  },
  {
   "cell_type": "code",
   "execution_count": null,
   "metadata": {},
   "outputs": [],
   "source": [
    "plot_test(i, test_data, mean, std, temperatures)\n",
    "plt.show()"
   ]
  },
  {
   "cell_type": "markdown",
   "metadata": {},
   "source": [
    "### Calibration"
   ]
  },
  {
   "cell_type": "markdown",
   "metadata": {
    "editable": true,
    "slideshow": {
     "slide_type": "slide"
    },
    "tags": []
   },
   "source": [
    "# Load the streamlit App"
   ]
  },
  {
   "cell_type": "code",
   "execution_count": null,
   "metadata": {
    "editable": true,
    "slideshow": {
     "slide_type": ""
    },
    "tags": []
   },
   "outputs": [],
   "source": [
    "%%capture\n",
    "# !streamlit run app.py"
   ]
  },
  {
   "cell_type": "code",
   "execution_count": null,
   "metadata": {
    "editable": true,
    "slideshow": {
     "slide_type": ""
    },
    "tags": []
   },
   "outputs": [],
   "source": []
  },
  {
   "cell_type": "code",
   "execution_count": null,
   "metadata": {},
   "outputs": [],
   "source": []
  },
  {
   "cell_type": "code",
   "execution_count": null,
   "metadata": {},
   "outputs": [],
   "source": []
  },
  {
   "cell_type": "code",
   "execution_count": null,
   "metadata": {},
   "outputs": [],
   "source": []
  },
  {
   "cell_type": "code",
   "execution_count": null,
   "metadata": {
    "editable": true,
    "slideshow": {
     "slide_type": ""
    },
    "tags": []
   },
   "outputs": [],
   "source": []
  },
  {
   "cell_type": "code",
   "execution_count": null,
   "metadata": {
    "editable": true,
    "slideshow": {
     "slide_type": ""
    },
    "tags": []
   },
   "outputs": [],
   "source": []
  }
 ],
 "metadata": {
  "kernelspec": {
   "display_name": "Python 3 (ipykernel)",
   "language": "python",
   "name": "python3"
  },
  "language_info": {
   "codemirror_mode": {
    "name": "ipython",
    "version": 3
   },
   "file_extension": ".py",
   "mimetype": "text/x-python",
   "name": "python",
   "nbconvert_exporter": "python",
   "pygments_lexer": "ipython3",
   "version": "3.11.9"
  }
 },
 "nbformat": 4,
 "nbformat_minor": 4
}
