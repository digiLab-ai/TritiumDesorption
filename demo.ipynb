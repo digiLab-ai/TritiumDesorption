{
 "cells": [
  {
   "cell_type": "markdown",
   "metadata": {
    "@deathbeds/jupyterlab-fonts": {
     "styles": {
      "": {
       "body[data-jp-deck-mode='presenting'] &": {
        "opacity": null,
        "zoom": "315%"
       }
      }
     }
    },
    "editable": true,
    "slideshow": {
     "slide_type": "subslide"
    },
    "tags": []
   },
   "source": [
    "# Predicting Tritium Thermo-Desorption Spectra"
   ]
  },
  {
   "cell_type": "markdown",
   "metadata": {
    "@deathbeds/jupyterlab-fonts": {
     "styles": {
      "": {
       "body[data-jp-deck-mode='presenting'] &": {
        "opacity": null,
        "zoom": "315%"
       }
      }
     }
    },
    "editable": true,
    "slideshow": {
     "slide_type": "subslide"
    },
    "tags": []
   },
   "source": [
    "___"
   ]
  },
  {
   "cell_type": "markdown",
   "metadata": {
    "editable": true,
    "slideshow": {
     "slide_type": "slide"
    },
    "tags": []
   },
   "source": [
    "### Context"
   ]
  },
  {
   "cell_type": "markdown",
   "metadata": {
    "editable": true,
    "slideshow": {
     "slide_type": null
    },
    "tags": []
   },
   "source": [
    "Tritium is an isotope of Hydrogen used as a fuel in fusion research. In testing, the reactor walls are bombarded by tritium isotopes, which enter the metal lattice through difussion. Regions of the atomic lattice called \"trapping sites\" retain tritium atoms.\n",
    "\n",
    "When the reactor wall is removed, the trapped tritium is a huge threat. It will slowly escape the material, and persist in the atmospehre irradiating anything nearby. The estimated cost of decomissioning tritiated metal is $5,000,000 per gram of tritium. \n",
    "\n"
   ]
  },
  {
   "cell_type": "markdown",
   "metadata": {
    "editable": true,
    "slideshow": {
     "slide_type": "slide"
    },
    "tags": []
   },
   "source": [
    "### Thermal-Desorption Spectrometry\n",
    "\n",
    "When tritiated metal is heated, the tritium can escape the trapping sides and diffuse out of the metal. This process is called desorption and it's measured using Thermal-Desorption Spectrometry. The amount of tritium released can be modeled as a function of temperature. "
   ]
  },
  {
   "cell_type": "markdown",
   "metadata": {
    "editable": true,
    "slideshow": {
     "slide_type": "skip"
    },
    "tags": []
   },
   "source": [
    "*** "
   ]
  },
  {
   "cell_type": "markdown",
   "metadata": {
    "editable": true,
    "slideshow": {
     "slide_type": "slide"
    },
    "tags": []
   },
   "source": [
    "### ML Challenge \n",
    "\n",
    "The computer simulations used to model tritium desorption spectra are computationaly expensive. This means we want to use `twinLab` emulators to predict the Thermal-Desorption Spectra at new inputs to inform design choices under uncertainty.\n"
   ]
  },
  {
   "cell_type": "markdown",
   "metadata": {
    "editable": true,
    "slideshow": {
     "slide_type": "skip"
    },
    "tags": []
   },
   "source": [
    "***"
   ]
  },
  {
   "cell_type": "markdown",
   "metadata": {
    "editable": true,
    "slideshow": {
     "slide_type": "slide"
    },
    "tags": []
   },
   "source": [
    "### Imports"
   ]
  },
  {
   "cell_type": "code",
   "execution_count": 1,
   "metadata": {
    "@deathbeds/jupyterlab-fonts": {
     "styles": {
      "": {
       "body[data-jp-deck-mode='presenting'] &": {
        "height": "33.19255999902242%",
        "left": "13.392312385600977%",
        "position": "fixed",
        "top": "33.315954118873826%",
        "width": "73.88752907641855%"
       }
      }
     }
    },
    "editable": true,
    "jupyterlab-deck": {
     "layer": "slide"
    },
    "slideshow": {
     "slide_type": ""
    },
    "tags": []
   },
   "outputs": [
    {
     "name": "stdout",
     "output_type": "stream",
     "text": [
      "\n",
      "          ====== TwinLab Client Initialisation ======\n",
      "          Version     : 2.9.0\n",
      "          Server      : https://twinlab.digilab.co.uk\n",
      "          Environment : /Users/joe/repos/FusionEnergy/.env\n",
      "\n"
     ]
    }
   ],
   "source": [
    "# Project imports\n",
    "import twinlab as tl\n",
    "from fusion_energy.plot import plot_test, style_axes\n",
    "\n",
    "# Third-party imports\n",
    "import numpy as np\n",
    "import pandas as pd\n",
    "import matplotlib.pyplot as plt"
   ]
  },
  {
   "cell_type": "markdown",
   "metadata": {
    "editable": true,
    "slideshow": {
     "slide_type": "skip"
    },
    "tags": []
   },
   "source": [
    "***"
   ]
  },
  {
   "cell_type": "markdown",
   "metadata": {
    "editable": true,
    "slideshow": {
     "slide_type": "slide"
    },
    "tags": []
   },
   "source": [
    "### Downloading Data\n",
    "\n",
    "The Thermal-Desorption Spectra data is available to you on the `twinLab` cloud as an example dataset. "
   ]
  },
  {
   "cell_type": "code",
   "execution_count": 2,
   "metadata": {
    "editable": true,
    "slideshow": {
     "slide_type": ""
    },
    "tags": []
   },
   "outputs": [],
   "source": [
    "data = tl.load_example_dataset('tritium-desorption')"
   ]
  },
  {
   "cell_type": "markdown",
   "metadata": {
    "editable": true,
    "slideshow": {
     "slide_type": "skip"
    },
    "tags": []
   },
   "source": [
    "***"
   ]
  },
  {
   "cell_type": "markdown",
   "metadata": {
    "editable": true,
    "slideshow": {
     "slide_type": "slide"
    },
    "tags": []
   },
   "source": [
    "### Inputs\n",
    "\n",
    "The 5 simulation inputs are properties of the wall material describing the trapping of tritium isotopes:\n",
    "\n",
    "- $E_i$ - the detrapping energies of tritium trap sites in $eV$. \n",
    "- $n_i$ - the densities of the trapping sites.\n"
   ]
  },
  {
   "cell_type": "code",
   "execution_count": 3,
   "metadata": {
    "editable": true,
    "slideshow": {
     "slide_type": ""
    },
    "tags": []
   },
   "outputs": [
    {
     "data": {
      "text/html": [
       "<div>\n",
       "<style scoped>\n",
       "    .dataframe tbody tr th:only-of-type {\n",
       "        vertical-align: middle;\n",
       "    }\n",
       "\n",
       "    .dataframe tbody tr th {\n",
       "        vertical-align: top;\n",
       "    }\n",
       "\n",
       "    .dataframe thead th {\n",
       "        text-align: right;\n",
       "    }\n",
       "</style>\n",
       "<table border=\"1\" class=\"dataframe\">\n",
       "  <thead>\n",
       "    <tr style=\"text-align: right;\">\n",
       "      <th></th>\n",
       "      <th>E1</th>\n",
       "      <th>E2</th>\n",
       "      <th>E3</th>\n",
       "      <th>n1</th>\n",
       "      <th>n2</th>\n",
       "    </tr>\n",
       "  </thead>\n",
       "  <tbody>\n",
       "    <tr>\n",
       "      <th>0</th>\n",
       "      <td>0.726163</td>\n",
       "      <td>1.248766</td>\n",
       "      <td>1.128671</td>\n",
       "      <td>0.002004</td>\n",
       "      <td>0.000307</td>\n",
       "    </tr>\n",
       "    <tr>\n",
       "      <th>1</th>\n",
       "      <td>0.787837</td>\n",
       "      <td>0.925174</td>\n",
       "      <td>1.226117</td>\n",
       "      <td>0.001564</td>\n",
       "      <td>0.000768</td>\n",
       "    </tr>\n",
       "    <tr>\n",
       "      <th>2</th>\n",
       "      <td>0.710103</td>\n",
       "      <td>0.902457</td>\n",
       "      <td>1.558539</td>\n",
       "      <td>0.004860</td>\n",
       "      <td>0.000613</td>\n",
       "    </tr>\n",
       "  </tbody>\n",
       "</table>\n",
       "</div>"
      ],
      "text/plain": [
       "         E1        E2        E3        n1        n2\n",
       "0  0.726163  1.248766  1.128671  0.002004  0.000307\n",
       "1  0.787837  0.925174  1.226117  0.001564  0.000768\n",
       "2  0.710103  0.902457  1.558539  0.004860  0.000613"
      ]
     },
     "execution_count": 3,
     "metadata": {},
     "output_type": "execute_result"
    }
   ],
   "source": [
    "inputs = data.columns[:5].to_list()\n",
    "data[inputs][:3]"
   ]
  },
  {
   "cell_type": "markdown",
   "metadata": {
    "slideshow": {
     "slide_type": "skip"
    }
   },
   "source": [
    "___"
   ]
  },
  {
   "cell_type": "markdown",
   "metadata": {
    "editable": true,
    "slideshow": {
     "slide_type": "slide"
    },
    "tags": []
   },
   "source": [
    "### Outputs\n",
    "\n",
    "Every simulation outputs n many the tritium desorption rates $D_n$ as the temperature $T$ is increased from 300K to 800K. In our case n = 624 which means there are 624 desroption rates and 624 temperature values.\n"
   ]
  },
  {
   "cell_type": "markdown",
   "metadata": {
    "editable": true,
    "slideshow": {
     "slide_type": "skip"
    },
    "tags": []
   },
   "source": [
    "___"
   ]
  },
  {
   "cell_type": "code",
   "execution_count": 4,
   "metadata": {
    "editable": true,
    "slideshow": {
     "slide_type": ""
    },
    "tags": []
   },
   "outputs": [],
   "source": [
    "outputs = [f\"D{n}\" for n in range(624)]"
   ]
  },
  {
   "cell_type": "code",
   "execution_count": 5,
   "metadata": {
    "editable": true,
    "slideshow": {
     "slide_type": ""
    },
    "tags": []
   },
   "outputs": [
    {
     "data": {
      "text/html": [
       "<div>\n",
       "<style scoped>\n",
       "    .dataframe tbody tr th:only-of-type {\n",
       "        vertical-align: middle;\n",
       "    }\n",
       "\n",
       "    .dataframe tbody tr th {\n",
       "        vertical-align: top;\n",
       "    }\n",
       "\n",
       "    .dataframe thead th {\n",
       "        text-align: right;\n",
       "    }\n",
       "</style>\n",
       "<table border=\"1\" class=\"dataframe\">\n",
       "  <thead>\n",
       "    <tr style=\"text-align: right;\">\n",
       "      <th></th>\n",
       "      <th>T0</th>\n",
       "      <th>T1</th>\n",
       "      <th>T2</th>\n",
       "      <th>T3</th>\n",
       "      <th>T4</th>\n",
       "      <th>T5</th>\n",
       "      <th>T6</th>\n",
       "      <th>T7</th>\n",
       "      <th>T8</th>\n",
       "      <th>T9</th>\n",
       "      <th>...</th>\n",
       "      <th>T614</th>\n",
       "      <th>T615</th>\n",
       "      <th>T616</th>\n",
       "      <th>T617</th>\n",
       "      <th>T618</th>\n",
       "      <th>T619</th>\n",
       "      <th>T620</th>\n",
       "      <th>T621</th>\n",
       "      <th>T622</th>\n",
       "      <th>T623</th>\n",
       "    </tr>\n",
       "  </thead>\n",
       "  <tbody>\n",
       "    <tr>\n",
       "      <th>0</th>\n",
       "      <td>300.0</td>\n",
       "      <td>300.802568</td>\n",
       "      <td>301.605136</td>\n",
       "      <td>302.407705</td>\n",
       "      <td>303.210273</td>\n",
       "      <td>304.012841</td>\n",
       "      <td>304.815409</td>\n",
       "      <td>305.617978</td>\n",
       "      <td>306.420546</td>\n",
       "      <td>307.223114</td>\n",
       "      <td>...</td>\n",
       "      <td>792.776886</td>\n",
       "      <td>793.579454</td>\n",
       "      <td>794.382022</td>\n",
       "      <td>795.184591</td>\n",
       "      <td>795.987159</td>\n",
       "      <td>796.789727</td>\n",
       "      <td>797.592295</td>\n",
       "      <td>798.394864</td>\n",
       "      <td>799.197432</td>\n",
       "      <td>800.0</td>\n",
       "    </tr>\n",
       "  </tbody>\n",
       "</table>\n",
       "<p>1 rows × 624 columns</p>\n",
       "</div>"
      ],
      "text/plain": [
       "      T0          T1          T2          T3          T4          T5  \\\n",
       "0  300.0  300.802568  301.605136  302.407705  303.210273  304.012841   \n",
       "\n",
       "           T6          T7          T8          T9  ...        T614  \\\n",
       "0  304.815409  305.617978  306.420546  307.223114  ...  792.776886   \n",
       "\n",
       "         T615        T616        T617        T618        T619        T620  \\\n",
       "0  793.579454  794.382022  795.184591  795.987159  796.789727  797.592295   \n",
       "\n",
       "         T621        T622   T623  \n",
       "0  798.394864  799.197432  800.0  \n",
       "\n",
       "[1 rows x 624 columns]"
      ]
     },
     "execution_count": 5,
     "metadata": {},
     "output_type": "execute_result"
    }
   ],
   "source": [
    "temperatures = pd.DataFrame(np.linspace(300, 800, len(outputs))).T\n",
    "temperatures.columns = [f\"T{n}\" for n in range(len(outputs))]\n",
    "temperatures"
   ]
  },
  {
   "cell_type": "code",
   "execution_count": 6,
   "metadata": {
    "editable": true,
    "slideshow": {
     "slide_type": ""
    },
    "tags": []
   },
   "outputs": [],
   "source": [
    "data.columns = list(data.columns[:5]) + outputs"
   ]
  },
  {
   "cell_type": "code",
   "execution_count": 7,
   "metadata": {
    "editable": true,
    "scrolled": true,
    "slideshow": {
     "slide_type": ""
    },
    "tags": []
   },
   "outputs": [
    {
     "data": {
      "text/html": [
       "<div>\n",
       "<style scoped>\n",
       "    .dataframe tbody tr th:only-of-type {\n",
       "        vertical-align: middle;\n",
       "    }\n",
       "\n",
       "    .dataframe tbody tr th {\n",
       "        vertical-align: top;\n",
       "    }\n",
       "\n",
       "    .dataframe thead th {\n",
       "        text-align: right;\n",
       "    }\n",
       "</style>\n",
       "<table border=\"1\" class=\"dataframe\">\n",
       "  <thead>\n",
       "    <tr style=\"text-align: right;\">\n",
       "      <th></th>\n",
       "      <th>D0</th>\n",
       "      <th>D1</th>\n",
       "      <th>D2</th>\n",
       "      <th>D3</th>\n",
       "      <th>D4</th>\n",
       "      <th>D5</th>\n",
       "      <th>D6</th>\n",
       "      <th>D7</th>\n",
       "      <th>D8</th>\n",
       "      <th>D9</th>\n",
       "      <th>...</th>\n",
       "      <th>D614</th>\n",
       "      <th>D615</th>\n",
       "      <th>D616</th>\n",
       "      <th>D617</th>\n",
       "      <th>D618</th>\n",
       "      <th>D619</th>\n",
       "      <th>D620</th>\n",
       "      <th>D621</th>\n",
       "      <th>D622</th>\n",
       "      <th>D623</th>\n",
       "    </tr>\n",
       "  </thead>\n",
       "  <tbody>\n",
       "    <tr>\n",
       "      <th>0</th>\n",
       "      <td>1.511613e+17</td>\n",
       "      <td>1.626357e+17</td>\n",
       "      <td>1.749599e+17</td>\n",
       "      <td>1.881609e+17</td>\n",
       "      <td>2.022474e+17</td>\n",
       "      <td>2.171753e+17</td>\n",
       "      <td>2.329431e+17</td>\n",
       "      <td>2.501679e+17</td>\n",
       "      <td>2.681171e+17</td>\n",
       "      <td>2.873808e+17</td>\n",
       "      <td>...</td>\n",
       "      <td>2.318606e+17</td>\n",
       "      <td>2.304607e+17</td>\n",
       "      <td>2.290609e+17</td>\n",
       "      <td>2.276611e+17</td>\n",
       "      <td>2.262613e+17</td>\n",
       "      <td>2.248615e+17</td>\n",
       "      <td>2.234616e+17</td>\n",
       "      <td>2.220618e+17</td>\n",
       "      <td>2.206620e+17</td>\n",
       "      <td>2.192622e+17</td>\n",
       "    </tr>\n",
       "    <tr>\n",
       "      <th>1</th>\n",
       "      <td>7.621430e+16</td>\n",
       "      <td>8.255297e+16</td>\n",
       "      <td>8.942421e+16</td>\n",
       "      <td>9.684174e+16</td>\n",
       "      <td>1.048160e+17</td>\n",
       "      <td>1.133235e+17</td>\n",
       "      <td>1.223659e+17</td>\n",
       "      <td>1.323483e+17</td>\n",
       "      <td>1.428036e+17</td>\n",
       "      <td>1.541191e+17</td>\n",
       "      <td>...</td>\n",
       "      <td>2.728998e+16</td>\n",
       "      <td>2.706896e+16</td>\n",
       "      <td>2.684793e+16</td>\n",
       "      <td>2.662690e+16</td>\n",
       "      <td>2.640587e+16</td>\n",
       "      <td>2.618484e+16</td>\n",
       "      <td>2.596381e+16</td>\n",
       "      <td>2.574279e+16</td>\n",
       "      <td>2.552176e+16</td>\n",
       "      <td>2.530073e+16</td>\n",
       "    </tr>\n",
       "    <tr>\n",
       "      <th>2</th>\n",
       "      <td>2.376907e+17</td>\n",
       "      <td>2.553641e+17</td>\n",
       "      <td>2.743015e+17</td>\n",
       "      <td>2.945655e+17</td>\n",
       "      <td>3.161688e+17</td>\n",
       "      <td>3.390432e+17</td>\n",
       "      <td>3.631858e+17</td>\n",
       "      <td>3.895231e+17</td>\n",
       "      <td>4.169486e+17</td>\n",
       "      <td>4.463476e+17</td>\n",
       "      <td>...</td>\n",
       "      <td>2.079730e+16</td>\n",
       "      <td>2.078486e+16</td>\n",
       "      <td>2.077242e+16</td>\n",
       "      <td>2.075998e+16</td>\n",
       "      <td>2.074754e+16</td>\n",
       "      <td>2.073510e+16</td>\n",
       "      <td>2.072265e+16</td>\n",
       "      <td>2.071021e+16</td>\n",
       "      <td>2.069777e+16</td>\n",
       "      <td>2.068533e+16</td>\n",
       "    </tr>\n",
       "    <tr>\n",
       "      <th>3</th>\n",
       "      <td>1.491269e+17</td>\n",
       "      <td>1.609964e+17</td>\n",
       "      <td>1.737868e+17</td>\n",
       "      <td>1.875378e+17</td>\n",
       "      <td>2.022633e+17</td>\n",
       "      <td>2.179179e+17</td>\n",
       "      <td>2.345022e+17</td>\n",
       "      <td>2.527081e+17</td>\n",
       "      <td>2.717244e+17</td>\n",
       "      <td>2.922129e+17</td>\n",
       "      <td>...</td>\n",
       "      <td>2.405455e+17</td>\n",
       "      <td>2.382445e+17</td>\n",
       "      <td>2.359435e+17</td>\n",
       "      <td>2.336425e+17</td>\n",
       "      <td>2.313415e+17</td>\n",
       "      <td>2.290405e+17</td>\n",
       "      <td>2.267395e+17</td>\n",
       "      <td>2.244385e+17</td>\n",
       "      <td>2.221375e+17</td>\n",
       "      <td>2.198365e+17</td>\n",
       "    </tr>\n",
       "    <tr>\n",
       "      <th>4</th>\n",
       "      <td>8.396414e+15</td>\n",
       "      <td>9.173453e+15</td>\n",
       "      <td>1.003567e+16</td>\n",
       "      <td>1.097871e+16</td>\n",
       "      <td>1.200347e+16</td>\n",
       "      <td>1.310722e+16</td>\n",
       "      <td>1.429071e+16</td>\n",
       "      <td>1.561696e+16</td>\n",
       "      <td>1.701622e+16</td>\n",
       "      <td>1.854882e+16</td>\n",
       "      <td>...</td>\n",
       "      <td>3.434468e+16</td>\n",
       "      <td>3.408240e+16</td>\n",
       "      <td>3.382012e+16</td>\n",
       "      <td>3.355785e+16</td>\n",
       "      <td>3.329557e+16</td>\n",
       "      <td>3.303329e+16</td>\n",
       "      <td>3.277101e+16</td>\n",
       "      <td>3.250873e+16</td>\n",
       "      <td>3.224646e+16</td>\n",
       "      <td>3.198418e+16</td>\n",
       "    </tr>\n",
       "    <tr>\n",
       "      <th>...</th>\n",
       "      <td>...</td>\n",
       "      <td>...</td>\n",
       "      <td>...</td>\n",
       "      <td>...</td>\n",
       "      <td>...</td>\n",
       "      <td>...</td>\n",
       "      <td>...</td>\n",
       "      <td>...</td>\n",
       "      <td>...</td>\n",
       "      <td>...</td>\n",
       "      <td>...</td>\n",
       "      <td>...</td>\n",
       "      <td>...</td>\n",
       "      <td>...</td>\n",
       "      <td>...</td>\n",
       "      <td>...</td>\n",
       "      <td>...</td>\n",
       "      <td>...</td>\n",
       "      <td>...</td>\n",
       "      <td>...</td>\n",
       "      <td>...</td>\n",
       "    </tr>\n",
       "    <tr>\n",
       "      <th>395</th>\n",
       "      <td>1.345699e+17</td>\n",
       "      <td>1.456865e+17</td>\n",
       "      <td>1.576992e+17</td>\n",
       "      <td>1.706529e+17</td>\n",
       "      <td>1.845647e+17</td>\n",
       "      <td>1.993929e+17</td>\n",
       "      <td>2.151391e+17</td>\n",
       "      <td>2.324948e+17</td>\n",
       "      <td>2.506581e+17</td>\n",
       "      <td>2.702898e+17</td>\n",
       "      <td>...</td>\n",
       "      <td>2.099361e+17</td>\n",
       "      <td>2.070631e+17</td>\n",
       "      <td>2.041900e+17</td>\n",
       "      <td>2.013170e+17</td>\n",
       "      <td>1.984440e+17</td>\n",
       "      <td>1.955710e+17</td>\n",
       "      <td>1.926980e+17</td>\n",
       "      <td>1.898249e+17</td>\n",
       "      <td>1.869519e+17</td>\n",
       "      <td>1.840789e+17</td>\n",
       "    </tr>\n",
       "    <tr>\n",
       "      <th>396</th>\n",
       "      <td>5.668893e+15</td>\n",
       "      <td>6.290050e+15</td>\n",
       "      <td>6.911207e+15</td>\n",
       "      <td>7.596330e+15</td>\n",
       "      <td>8.344831e+15</td>\n",
       "      <td>9.155117e+15</td>\n",
       "      <td>1.002414e+16</td>\n",
       "      <td>1.100911e+16</td>\n",
       "      <td>1.205281e+16</td>\n",
       "      <td>1.319717e+16</td>\n",
       "      <td>...</td>\n",
       "      <td>1.136794e+17</td>\n",
       "      <td>1.125222e+17</td>\n",
       "      <td>1.113649e+17</td>\n",
       "      <td>1.102076e+17</td>\n",
       "      <td>1.090504e+17</td>\n",
       "      <td>1.078931e+17</td>\n",
       "      <td>1.067358e+17</td>\n",
       "      <td>1.055786e+17</td>\n",
       "      <td>1.044213e+17</td>\n",
       "      <td>1.032640e+17</td>\n",
       "    </tr>\n",
       "    <tr>\n",
       "      <th>397</th>\n",
       "      <td>2.624759e+16</td>\n",
       "      <td>2.862085e+16</td>\n",
       "      <td>3.122200e+16</td>\n",
       "      <td>3.405309e+16</td>\n",
       "      <td>3.712017e+16</td>\n",
       "      <td>4.041519e+16</td>\n",
       "      <td>4.394000e+16</td>\n",
       "      <td>4.787436e+16</td>\n",
       "      <td>5.201741e+16</td>\n",
       "      <td>5.654131e+16</td>\n",
       "      <td>...</td>\n",
       "      <td>4.119450e+16</td>\n",
       "      <td>4.079302e+16</td>\n",
       "      <td>4.039155e+16</td>\n",
       "      <td>3.999007e+16</td>\n",
       "      <td>3.958860e+16</td>\n",
       "      <td>3.918712e+16</td>\n",
       "      <td>3.878565e+16</td>\n",
       "      <td>3.838417e+16</td>\n",
       "      <td>3.798270e+16</td>\n",
       "      <td>3.758122e+16</td>\n",
       "    </tr>\n",
       "    <tr>\n",
       "      <th>398</th>\n",
       "      <td>5.259842e+15</td>\n",
       "      <td>5.754444e+15</td>\n",
       "      <td>6.307820e+15</td>\n",
       "      <td>6.915794e+15</td>\n",
       "      <td>7.578222e+15</td>\n",
       "      <td>8.293217e+15</td>\n",
       "      <td>9.061298e+15</td>\n",
       "      <td>9.924840e+15</td>\n",
       "      <td>1.083738e+16</td>\n",
       "      <td>1.183949e+16</td>\n",
       "      <td>...</td>\n",
       "      <td>2.415848e+17</td>\n",
       "      <td>2.377526e+17</td>\n",
       "      <td>2.339204e+17</td>\n",
       "      <td>2.300882e+17</td>\n",
       "      <td>2.262560e+17</td>\n",
       "      <td>2.224238e+17</td>\n",
       "      <td>2.185916e+17</td>\n",
       "      <td>2.147594e+17</td>\n",
       "      <td>2.109272e+17</td>\n",
       "      <td>2.072690e+17</td>\n",
       "    </tr>\n",
       "    <tr>\n",
       "      <th>399</th>\n",
       "      <td>2.955044e+15</td>\n",
       "      <td>3.246669e+15</td>\n",
       "      <td>3.575491e+15</td>\n",
       "      <td>3.939120e+15</td>\n",
       "      <td>4.337432e+15</td>\n",
       "      <td>4.769337e+15</td>\n",
       "      <td>5.235242e+15</td>\n",
       "      <td>5.762816e+15</td>\n",
       "      <td>6.322292e+15</td>\n",
       "      <td>6.940188e+15</td>\n",
       "      <td>...</td>\n",
       "      <td>9.499925e+16</td>\n",
       "      <td>9.378554e+16</td>\n",
       "      <td>9.257182e+16</td>\n",
       "      <td>9.135811e+16</td>\n",
       "      <td>9.014439e+16</td>\n",
       "      <td>8.893068e+16</td>\n",
       "      <td>8.771697e+16</td>\n",
       "      <td>8.650325e+16</td>\n",
       "      <td>8.528954e+16</td>\n",
       "      <td>8.407582e+16</td>\n",
       "    </tr>\n",
       "  </tbody>\n",
       "</table>\n",
       "<p>400 rows × 624 columns</p>\n",
       "</div>"
      ],
      "text/plain": [
       "               D0            D1            D2            D3            D4  \\\n",
       "0    1.511613e+17  1.626357e+17  1.749599e+17  1.881609e+17  2.022474e+17   \n",
       "1    7.621430e+16  8.255297e+16  8.942421e+16  9.684174e+16  1.048160e+17   \n",
       "2    2.376907e+17  2.553641e+17  2.743015e+17  2.945655e+17  3.161688e+17   \n",
       "3    1.491269e+17  1.609964e+17  1.737868e+17  1.875378e+17  2.022633e+17   \n",
       "4    8.396414e+15  9.173453e+15  1.003567e+16  1.097871e+16  1.200347e+16   \n",
       "..            ...           ...           ...           ...           ...   \n",
       "395  1.345699e+17  1.456865e+17  1.576992e+17  1.706529e+17  1.845647e+17   \n",
       "396  5.668893e+15  6.290050e+15  6.911207e+15  7.596330e+15  8.344831e+15   \n",
       "397  2.624759e+16  2.862085e+16  3.122200e+16  3.405309e+16  3.712017e+16   \n",
       "398  5.259842e+15  5.754444e+15  6.307820e+15  6.915794e+15  7.578222e+15   \n",
       "399  2.955044e+15  3.246669e+15  3.575491e+15  3.939120e+15  4.337432e+15   \n",
       "\n",
       "               D5            D6            D7            D8            D9  \\\n",
       "0    2.171753e+17  2.329431e+17  2.501679e+17  2.681171e+17  2.873808e+17   \n",
       "1    1.133235e+17  1.223659e+17  1.323483e+17  1.428036e+17  1.541191e+17   \n",
       "2    3.390432e+17  3.631858e+17  3.895231e+17  4.169486e+17  4.463476e+17   \n",
       "3    2.179179e+17  2.345022e+17  2.527081e+17  2.717244e+17  2.922129e+17   \n",
       "4    1.310722e+16  1.429071e+16  1.561696e+16  1.701622e+16  1.854882e+16   \n",
       "..            ...           ...           ...           ...           ...   \n",
       "395  1.993929e+17  2.151391e+17  2.324948e+17  2.506581e+17  2.702898e+17   \n",
       "396  9.155117e+15  1.002414e+16  1.100911e+16  1.205281e+16  1.319717e+16   \n",
       "397  4.041519e+16  4.394000e+16  4.787436e+16  5.201741e+16  5.654131e+16   \n",
       "398  8.293217e+15  9.061298e+15  9.924840e+15  1.083738e+16  1.183949e+16   \n",
       "399  4.769337e+15  5.235242e+15  5.762816e+15  6.322292e+15  6.940188e+15   \n",
       "\n",
       "     ...          D614          D615          D616          D617  \\\n",
       "0    ...  2.318606e+17  2.304607e+17  2.290609e+17  2.276611e+17   \n",
       "1    ...  2.728998e+16  2.706896e+16  2.684793e+16  2.662690e+16   \n",
       "2    ...  2.079730e+16  2.078486e+16  2.077242e+16  2.075998e+16   \n",
       "3    ...  2.405455e+17  2.382445e+17  2.359435e+17  2.336425e+17   \n",
       "4    ...  3.434468e+16  3.408240e+16  3.382012e+16  3.355785e+16   \n",
       "..   ...           ...           ...           ...           ...   \n",
       "395  ...  2.099361e+17  2.070631e+17  2.041900e+17  2.013170e+17   \n",
       "396  ...  1.136794e+17  1.125222e+17  1.113649e+17  1.102076e+17   \n",
       "397  ...  4.119450e+16  4.079302e+16  4.039155e+16  3.999007e+16   \n",
       "398  ...  2.415848e+17  2.377526e+17  2.339204e+17  2.300882e+17   \n",
       "399  ...  9.499925e+16  9.378554e+16  9.257182e+16  9.135811e+16   \n",
       "\n",
       "             D618          D619          D620          D621          D622  \\\n",
       "0    2.262613e+17  2.248615e+17  2.234616e+17  2.220618e+17  2.206620e+17   \n",
       "1    2.640587e+16  2.618484e+16  2.596381e+16  2.574279e+16  2.552176e+16   \n",
       "2    2.074754e+16  2.073510e+16  2.072265e+16  2.071021e+16  2.069777e+16   \n",
       "3    2.313415e+17  2.290405e+17  2.267395e+17  2.244385e+17  2.221375e+17   \n",
       "4    3.329557e+16  3.303329e+16  3.277101e+16  3.250873e+16  3.224646e+16   \n",
       "..            ...           ...           ...           ...           ...   \n",
       "395  1.984440e+17  1.955710e+17  1.926980e+17  1.898249e+17  1.869519e+17   \n",
       "396  1.090504e+17  1.078931e+17  1.067358e+17  1.055786e+17  1.044213e+17   \n",
       "397  3.958860e+16  3.918712e+16  3.878565e+16  3.838417e+16  3.798270e+16   \n",
       "398  2.262560e+17  2.224238e+17  2.185916e+17  2.147594e+17  2.109272e+17   \n",
       "399  9.014439e+16  8.893068e+16  8.771697e+16  8.650325e+16  8.528954e+16   \n",
       "\n",
       "             D623  \n",
       "0    2.192622e+17  \n",
       "1    2.530073e+16  \n",
       "2    2.068533e+16  \n",
       "3    2.198365e+17  \n",
       "4    3.198418e+16  \n",
       "..            ...  \n",
       "395  1.840789e+17  \n",
       "396  1.032640e+17  \n",
       "397  3.758122e+16  \n",
       "398  2.072690e+17  \n",
       "399  8.407582e+16  \n",
       "\n",
       "[400 rows x 624 columns]"
      ]
     },
     "execution_count": 7,
     "metadata": {},
     "output_type": "execute_result"
    }
   ],
   "source": [
    "data[outputs]\n",
    "# data[outputs][:3]"
   ]
  },
  {
   "cell_type": "markdown",
   "metadata": {
    "editable": true,
    "slideshow": {
     "slide_type": "skip"
    },
    "tags": []
   },
   "source": [
    "***"
   ]
  },
  {
   "cell_type": "markdown",
   "metadata": {
    "editable": true,
    "slideshow": {
     "slide_type": "slide"
    },
    "tags": []
   },
   "source": [
    "### Uploading data\n",
    "\n",
    "We'll create a copy of the example dataset in the `twinLab` cloud to work with."
   ]
  },
  {
   "cell_type": "code",
   "execution_count": 8,
   "metadata": {
    "editable": true,
    "slideshow": {
     "slide_type": ""
    },
    "tags": []
   },
   "outputs": [],
   "source": [
    "dataset = tl.Dataset(\"tritium_desorption\")\n",
    "dataset.upload(data, verbose = False)"
   ]
  },
  {
   "cell_type": "markdown",
   "metadata": {
    "slideshow": {
     "slide_type": "skip"
    }
   },
   "source": [
    "***"
   ]
  },
  {
   "cell_type": "markdown",
   "metadata": {
    "editable": true,
    "slideshow": {
     "slide_type": ""
    },
    "tags": []
   },
   "source": [
    "### Workflow\n",
    "\n"
   ]
  },
  {
   "cell_type": "markdown",
   "metadata": {
    "editable": true,
    "slideshow": {
     "slide_type": ""
    },
    "tags": []
   },
   "source": [
    "### Dimensionality reduction\n",
    "\n",
    "Our dataset has 624 outputs or ***dimensions***, which makes our problem complicated. Luckily we can make it simpler using `twinLab`. \n",
    "\n",
    "`twinLab` can learn to reperesent our outputs in fewer dimensions. This makes training and evaluating our emulator faster and cheaper. `twinLab` then reconstructs the more complex outputs when you need them, and you won't be able to tell the difference.\n",
    "\n",
    "To check if this will work for our problem, we need to:\n",
    "\n",
    "1. See how well our data can be represented using fewer dimensions.\n",
    "2. Select a sensible number of dimensions to use.\n",
    "\n",
    "We can do this using the `analyse_variance` function of our `twinLab` dataset, which tells us how well we can represent our original data using a given number of dimensions."
   ]
  },
  {
   "cell_type": "code",
   "execution_count": 9,
   "metadata": {
    "@deathbeds/jupyterlab-fonts": {
     "styles": {
      "": {
       "body[data-jp-deck-mode='presenting'] &": {
        "height": null,
        "left": null,
        "position": null,
        "top": null,
        "width": null
       }
      }
     }
    },
    "editable": true,
    "slideshow": {
     "slide_type": "slide"
    },
    "tags": []
   },
   "outputs": [
    {
     "data": {
      "text/html": [
       "<div>\n",
       "<style scoped>\n",
       "    .dataframe tbody tr th:only-of-type {\n",
       "        vertical-align: middle;\n",
       "    }\n",
       "\n",
       "    .dataframe tbody tr th {\n",
       "        vertical-align: top;\n",
       "    }\n",
       "\n",
       "    .dataframe thead th {\n",
       "        text-align: right;\n",
       "    }\n",
       "</style>\n",
       "<table border=\"1\" class=\"dataframe\">\n",
       "  <thead>\n",
       "    <tr style=\"text-align: right;\">\n",
       "      <th></th>\n",
       "      <th>Number of Dimensions</th>\n",
       "      <th>Cumulative Variance</th>\n",
       "    </tr>\n",
       "  </thead>\n",
       "  <tbody>\n",
       "    <tr>\n",
       "      <th>1</th>\n",
       "      <td>1</td>\n",
       "      <td>0.265579</td>\n",
       "    </tr>\n",
       "    <tr>\n",
       "      <th>2</th>\n",
       "      <td>2</td>\n",
       "      <td>0.734992</td>\n",
       "    </tr>\n",
       "    <tr>\n",
       "      <th>3</th>\n",
       "      <td>3</td>\n",
       "      <td>0.895238</td>\n",
       "    </tr>\n",
       "    <tr>\n",
       "      <th>4</th>\n",
       "      <td>4</td>\n",
       "      <td>0.969070</td>\n",
       "    </tr>\n",
       "    <tr>\n",
       "      <th>5</th>\n",
       "      <td>5</td>\n",
       "      <td>0.989724</td>\n",
       "    </tr>\n",
       "    <tr>\n",
       "      <th>6</th>\n",
       "      <td>6</td>\n",
       "      <td>0.996053</td>\n",
       "    </tr>\n",
       "    <tr>\n",
       "      <th>7</th>\n",
       "      <td>7</td>\n",
       "      <td>0.998313</td>\n",
       "    </tr>\n",
       "    <tr>\n",
       "      <th>8</th>\n",
       "      <td>8</td>\n",
       "      <td>0.999210</td>\n",
       "    </tr>\n",
       "    <tr>\n",
       "      <th>9</th>\n",
       "      <td>9</td>\n",
       "      <td>0.999563</td>\n",
       "    </tr>\n",
       "    <tr>\n",
       "      <th>10</th>\n",
       "      <td>10</td>\n",
       "      <td>0.999722</td>\n",
       "    </tr>\n",
       "  </tbody>\n",
       "</table>\n",
       "</div>"
      ],
      "text/plain": [
       "    Number of Dimensions  Cumulative Variance\n",
       "1                      1             0.265579\n",
       "2                      2             0.734992\n",
       "3                      3             0.895238\n",
       "4                      4             0.969070\n",
       "5                      5             0.989724\n",
       "6                      6             0.996053\n",
       "7                      7             0.998313\n",
       "8                      8             0.999210\n",
       "9                      9             0.999563\n",
       "10                    10             0.999722"
      ]
     },
     "execution_count": 9,
     "metadata": {},
     "output_type": "execute_result"
    }
   ],
   "source": [
    "variance = dataset.analyse_variance(outputs)[1:11]\n",
    "variance"
   ]
  },
  {
   "cell_type": "code",
   "execution_count": 10,
   "metadata": {
    "@deathbeds/jupyterlab-fonts": {
     "styles": {
      "": {
       "body[data-jp-deck-mode='presenting'] &": {
        "height": null,
        "left": null,
        "position": null,
        "top": null,
        "width": null
       }
      }
     }
    },
    "editable": true,
    "slideshow": {
     "slide_type": "slide"
    },
    "tags": []
   },
   "outputs": [],
   "source": [
    "number_dimensions = variance['Number of Dimensions'][1:11]\n",
    "cumulative_variance = variance['Cumulative Variance'][1:10]"
   ]
  },
  {
   "cell_type": "code",
   "execution_count": 11,
   "metadata": {
    "@deathbeds/jupyterlab-fonts": {
     "styles": {
      "": {
       "body[data-jp-deck-mode='presenting'] &": {
        "height": null,
        "left": null,
        "position": null,
        "top": null,
        "width": null
       }
      }
     }
    },
    "editable": false,
    "slideshow": {
     "slide_type": ""
    },
    "tags": []
   },
   "outputs": [
    {
     "data": {
      "image/png": "[encoded data removed]",
      "text/plain": [
       "<Figure size 640x480 with 1 Axes>"
      ]
     },
     "metadata": {},
     "output_type": "display_data"
    }
   ],
   "source": [
    "plt.plot(number_dimensions, cumulative_variance, 'kx--')\n",
    "plt.ylabel(\"Cumulative Variance\")\n",
    "plt.xlabel(\"Number of Dimensions\")\n",
    "style_axes(plt.gca())\n",
    "plt.show()"
   ]
  },
  {
   "cell_type": "markdown",
   "metadata": {
    "editable": true,
    "slideshow": {
     "slide_type": "skip"
    },
    "tags": []
   },
   "source": [
    "\n",
    "*** "
   ]
  },
  {
   "cell_type": "markdown",
   "metadata": {
    "editable": true,
    "slideshow": {
     "slide_type": "slide"
    },
    "tags": []
   },
   "source": [
    "### Emulation"
   ]
  },
  {
   "attachments": {},
   "cell_type": "markdown",
   "metadata": {
    "editable": true,
    "slideshow": {
     "slide_type": ""
    },
    "tags": []
   },
   "source": [
    "Our emulator will use an input $(E_1, E_2, E_3, n_1, n_2)$ to predict the desorption rate and the uncertainty at every temperature. This is a functional emulator because each input corrasponds to the output of a function.\n",
    "\n",
    "Before we can start training, we will set aside 20% of our data to test our emulator. This data won't be used in training and will be used to check how our emulator performs on \"new\" data.\n",
    "\n",
    "<!-- We will use a `single_task_gp` estimator, because ...\n",
    " how the emulator performs on new inputs.\n",
    " -->\n",
    "\n",
    "To get started we will:\n",
    "1. Create an emulator on the `twinlab` cloud."
   ]
  },
  {
   "cell_type": "code",
   "execution_count": 12,
   "metadata": {
    "editable": true,
    "slideshow": {
     "slide_type": ""
    },
    "tags": []
   },
   "outputs": [],
   "source": [
    "emulator = tl.Emulator('tritium_desorption') "
   ]
  },
  {
   "cell_type": "markdown",
   "metadata": {},
   "source": [
    "2. Set our training parameters."
   ]
  },
  {
   "cell_type": "code",
   "execution_count": 13,
   "metadata": {
    "editable": true,
    "slideshow": {
     "slide_type": ""
    },
    "tags": []
   },
   "outputs": [],
   "source": [
    "train_test_ratio = 0.8\n",
    "output_retained_dimensions = 8\n",
    "# estimator_params = tl.EstimatorParams(covar_module='M32', estimator_type='single_task_gp')"
   ]
  },
  {
   "cell_type": "code",
   "execution_count": 14,
   "metadata": {
    "editable": true,
    "slideshow": {
     "slide_type": ""
    },
    "tags": []
   },
   "outputs": [],
   "source": [
    "train_params = tl.TrainParams(\n",
    "    train_test_ratio = train_test_ratio,\n",
    "    output_retained_dimensions = output_retained_dimensions,\n",
    "    # estimator_params = estimator_params,\n",
    "    seed = 42\n",
    ")"
   ]
  },
  {
   "cell_type": "markdown",
   "metadata": {
    "editable": true,
    "slideshow": {
     "slide_type": "slide"
    },
    "tags": []
   },
   "source": [
    "3. Start!"
   ]
  },
  {
   "cell_type": "code",
   "execution_count": 15,
   "metadata": {
    "editable": true,
    "slideshow": {
     "slide_type": ""
    },
    "tags": []
   },
   "outputs": [
    {
     "name": "stdout",
     "output_type": "stream",
     "text": [
      "Model tritium_desorption has begun training.\n",
      "Emulator tritium_desorption with process ID train-zippy-proximal-sparrow is training.\n",
      "Training status: Your job is currently being uploaded to twinlab-cloud.\n",
      "Training status: Your job is currently being uploaded to twinlab-cloud.\n",
      "Training status: Your job is currently being processed.\n",
      "Training status: Your job is currently being processed.\n",
      "Training status: Your job is currently being processed.\n",
      "Training status: Your job is currently being processed.\n",
      "Training status: Your job is currently being processed.\n",
      "Training status: Your job is currently being processed.\n",
      "Training status: Your job is currently being processed.\n",
      "Training status: Your job is currently being processed.\n",
      "Training status: Your job is currently being processed.\n",
      "Training status: Your job is currently being processed.\n",
      "Training status: Your job is currently being processed.\n",
      "Training status: Your job is currently being processed.\n",
      "Training status: Your job is currently being processed.\n",
      "Training status: Your job is currently being processed.\n",
      "Training status: Your job is currently being processed.\n",
      "Training status: Your job is currently being processed.\n",
      "Training status: Your job is currently being processed.\n",
      "Training status: Your job is currently being processed.\n",
      "Training status: Your job is currently being processed.\n",
      "Training status: Your job has finished and is on its way back to you.\n",
      "Training of emulator tritium_desorption with process ID train-zippy-proximal-sparrow is complete!\n"
     ]
    }
   ],
   "source": [
    "emulator.train(dataset, inputs, outputs, train_params, verbose = True)"
   ]
  },
  {
   "cell_type": "markdown",
   "metadata": {
    "editable": true,
    "slideshow": {
     "slide_type": "slide"
    },
    "tags": []
   },
   "source": [
    "### Score\n",
    "\n",
    "Now the emulator is trained, we can use `emulator.score` to see how well it performs.\n",
    "We're going to use the Root Mean Squared Error (MSE) metric."
   ]
  },
  {
   "cell_type": "code",
   "execution_count": 16,
   "metadata": {
    "editable": true,
    "slideshow": {
     "slide_type": ""
    },
    "tags": []
   },
   "outputs": [
    {
     "name": "stdout",
     "output_type": "stream",
     "text": [
      "RMSE  = 2.605e+08\n"
     ]
    }
   ],
   "source": [
    "rmse = np.sqrt(emulator.score(tl.ScoreParams(metric = 'RMSE', combined_score = True)))\n",
    "print(f\"RMSE  = {rmse:.3e}\")"
   ]
  },
  {
   "cell_type": "code",
   "execution_count": 17,
   "metadata": {
    "editable": true,
    "slideshow": {
     "slide_type": ""
    },
    "tags": []
   },
   "outputs": [],
   "source": [
    "test_data = emulator.view_test_data()"
   ]
  },
  {
   "cell_type": "code",
   "execution_count": 18,
   "metadata": {
    "editable": true,
    "slideshow": {
     "slide_type": ""
    },
    "tags": []
   },
   "outputs": [],
   "source": [
    "mean, std = emulator.predict(test_data[inputs], verbose=False)"
   ]
  },
  {
   "cell_type": "markdown",
   "metadata": {
    "editable": true,
    "slideshow": {
     "slide_type": "skip"
    },
    "tags": []
   },
   "source": [
    "*** "
   ]
  },
  {
   "cell_type": "markdown",
   "metadata": {
    "editable": true,
    "slideshow": {
     "slide_type": "slide"
    },
    "tags": []
   },
   "source": [
    "### Test the emulator "
   ]
  },
  {
   "cell_type": "code",
   "execution_count": 19,
   "metadata": {},
   "outputs": [
    {
     "data": {
      "text/plain": [
       "78"
      ]
     },
     "execution_count": 19,
     "metadata": {},
     "output_type": "execute_result"
    }
   ],
   "source": [
    "i = np.random.randint(0, test_data.shape[0])"
   ]
  },
  {
   "cell_type": "code",
   "execution_count": 22,
   "metadata": {},
   "outputs": [
    {
     "data": {
      "image/png": "[encoded data removed]",
      "text/plain": [
       "<Figure size 800x600 with 1 Axes>"
      ]
     },
     "metadata": {},
     "output_type": "display_data"
    }
   ],
   "source": [
    "plot_test(i, test_data, mean, std, temperatures)\n",
    "plt.show()"
   ]
  },
  {
   "cell_type": "markdown",
   "metadata": {},
   "source": [
    "### Calibration"
   ]
  },
  {
   "cell_type": "markdown",
   "metadata": {
    "editable": true,
    "slideshow": {
     "slide_type": "slide"
    },
    "tags": []
   },
   "source": [
    "# Load the streamlit App"
   ]
  },
  {
   "cell_type": "code",
   "execution_count": 21,
   "metadata": {
    "editable": true,
    "slideshow": {
     "slide_type": ""
    },
    "tags": []
   },
   "outputs": [],
   "source": [
    "%%capture\n",
    "# !streamlit run app.py"
   ]
  },
  {
   "cell_type": "code",
   "execution_count": null,
   "metadata": {
    "editable": true,
    "slideshow": {
     "slide_type": ""
    },
    "tags": []
   },
   "outputs": [],
   "source": []
  },
  {
   "cell_type": "code",
   "execution_count": null,
   "metadata": {},
   "outputs": [],
   "source": []
  },
  {
   "cell_type": "code",
   "execution_count": null,
   "metadata": {},
   "outputs": [],
   "source": []
  },
  {
   "cell_type": "code",
   "execution_count": null,
   "metadata": {},
   "outputs": [],
   "source": []
  },
  {
   "cell_type": "code",
   "execution_count": null,
   "metadata": {
    "editable": true,
    "slideshow": {
     "slide_type": ""
    },
    "tags": []
   },
   "outputs": [],
   "source": []
  },
  {
   "cell_type": "code",
   "execution_count": null,
   "metadata": {
    "editable": true,
    "slideshow": {
     "slide_type": ""
    },
    "tags": []
   },
   "outputs": [],
   "source": []
  }
 ],
 "metadata": {
  "kernelspec": {
   "display_name": "Python 3 (ipykernel)",
   "language": "python",
   "name": "python3"
  },
  "language_info": {
   "codemirror_mode": {
    "name": "ipython",
    "version": 3
   },
   "file_extension": ".py",
   "mimetype": "text/x-python",
   "name": "python",
   "nbconvert_exporter": "python",
   "pygments_lexer": "ipython3",
   "version": "3.11.9"
  }
 },
 "nbformat": 4,
 "nbformat_minor": 4
}
