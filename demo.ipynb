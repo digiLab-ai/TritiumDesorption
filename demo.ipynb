{
 "cells": [
  {
   "attachments": {},
   "cell_type": "markdown",
   "metadata": {
    "editable": true,
    "slideshow": {
     "slide_type": "slide"
    },
    "tags": []
   },
   "source": [
    "# Predicting Tritium Thermo-Desorption Spectra using twinLab"
   ]
  },
  {
   "cell_type": "markdown",
   "metadata": {
    "editable": true,
    "slideshow": {
     "slide_type": "skip"
    },
    "tags": []
   },
   "source": [
    "*** "
   ]
  },
  {
   "cell_type": "markdown",
   "metadata": {
    "editable": true,
    "slideshow": {
     "slide_type": "slide"
    },
    "tags": []
   },
   "source": [
    "### What is tritium desorption?"
   ]
  },
  {
   "cell_type": "markdown",
   "metadata": {},
   "source": [
    "The interior of the reactor wall is bombarded by tritium isotopes from the tritium breeding loop and plasma bombardment, resulting in adsorption and diffusion through the material. \n",
    "\n",
    "Additionally to the mobile tritium which diffuses through the material, there are regions of the atomic lattice called trapping sites, whereby tritium can become trapped in a potential well of a given energy. Understanding both the diffusion of the mobile tritium and the energy and density of these traps is essential in predicting the amount of tritium which is retained within the fusion reactor structures. This has implications in the required tritium breeding ratio, tritium inventory, future waste classification and material degradation. Characteristing these trapping sites is therefore essential in making engineering predictions of future fusion powerplants.\n",
    "\n",
    "If the material is heated up above a certain termperature, the tritium can become excited and released from these trapping site. This can be measured through an experiment known as thermal-desorption spectrometry. A piece of material which has been implanted with tritium is heated at incremental steps, with the amount of tritium released being measured as a function of temperature. the physical properties of these traps can then be determined from the characteristics of the spectra."
   ]
  },
  {
   "cell_type": "markdown",
   "metadata": {
    "editable": true,
    "slideshow": {
     "slide_type": "skip"
    },
    "tags": []
   },
   "source": [
    "*** "
   ]
  },
  {
   "cell_type": "markdown",
   "metadata": {
    "editable": true,
    "slideshow": {
     "slide_type": "slide"
    },
    "tags": []
   },
   "source": [
    "### ML Challenge \n",
    "\n",
    "Computer simulations are required to model the behaviour of these materials over a range of parameters, but simulations are expensive in terms of computational power, and cannot be run at every point in parameter space under consideration. `twinLab` can be used to train simulation surrogate models using data from a sparse array of simulations. This allows for meaningful interpolation and extrapolation to unexplored regions of parameter space, together with a calibrated uncertainty estimate on the accuracy of the simulation surrogate.\n",
    "\n",
    "In this example, we look at the ability of `twinLab` Gaussian Processes to model of tritium in the wall of a fusion reactor using tritium desorption spectra. \n",
    "\n",
    "Taking a training set of known correlations between tritium desorption spectra (TDS) of form $f(T)$ and physical trapping properties ($E_1$, $E_2$, $E_3$, $n_1$, $n_2$), a Gaussian Process can then be traing to predict the shape of a TDS given a any new set of physical parameters along with the uncertainty in these predictions."
   ]
  },
  {
   "cell_type": "markdown",
   "metadata": {
    "editable": true,
    "slideshow": {
     "slide_type": "skip"
    },
    "tags": []
   },
   "source": [
    "***"
   ]
  },
  {
   "cell_type": "markdown",
   "metadata": {
    "editable": true,
    "slideshow": {
     "slide_type": "slide"
    },
    "tags": []
   },
   "source": [
    "### Importing libraries"
   ]
  },
  {
   "attachments": {},
   "cell_type": "markdown",
   "metadata": {},
   "source": [
    "First, import the required libraries"
   ]
  },
  {
   "cell_type": "code",
   "execution_count": 1,
   "metadata": {},
   "outputs": [
    {
     "name": "stdout",
     "output_type": "stream",
     "text": [
      "\n",
      "          ====== TwinLab Client Initialisation ======\n",
      "          Version     : 2.4.0\n",
      "          Server      : https://twinlab.digilab.co.uk\n",
      "          Environment : /Users/joe/repos/FusionEnergy/.env\n",
      "\n"
     ]
    }
   ],
   "source": [
    "# Project imports\n",
    "import twinlab as tl\n",
    "\n",
    "# Third-party imports\n",
    "import numpy as np\n",
    "import matplotlib.pyplot as plt\n",
    "import pandas as pd\n"
   ]
  },
  {
   "cell_type": "markdown",
   "metadata": {
    "editable": true,
    "slideshow": {
     "slide_type": "skip"
    },
    "tags": []
   },
   "source": [
    "***"
   ]
  },
  {
   "cell_type": "markdown",
   "metadata": {
    "editable": true,
    "slideshow": {
     "slide_type": "slide"
    },
    "tags": []
   },
   "source": [
    "### Importing data"
   ]
  },
  {
   "cell_type": "code",
   "execution_count": 44,
   "metadata": {
    "editable": true,
    "slideshow": {
     "slide_type": ""
    },
    "tags": []
   },
   "outputs": [
    {
     "name": "stdout",
     "output_type": "stream",
     "text": [
      "Dataframe downloaded successfully\n"
     ]
    }
   ],
   "source": [
    "data = tl.load_example_dataset('tritium-desorption')"
   ]
  },
  {
   "cell_type": "markdown",
   "metadata": {
    "editable": true,
    "slideshow": {
     "slide_type": "skip"
    },
    "tags": []
   },
   "source": [
    "***"
   ]
  },
  {
   "cell_type": "markdown",
   "metadata": {
    "editable": true,
    "slideshow": {
     "slide_type": "slide"
    },
    "tags": []
   },
   "source": [
    "### View the training data"
   ]
  },
  {
   "cell_type": "code",
   "execution_count": 4,
   "metadata": {},
   "outputs": [
    {
     "data": {
      "text/html": [
       "<div>\n",
       "<style scoped>\n",
       "    .dataframe tbody tr th:only-of-type {\n",
       "        vertical-align: middle;\n",
       "    }\n",
       "\n",
       "    .dataframe tbody tr th {\n",
       "        vertical-align: top;\n",
       "    }\n",
       "\n",
       "    .dataframe thead th {\n",
       "        text-align: right;\n",
       "    }\n",
       "</style>\n",
       "<table border=\"1\" class=\"dataframe\">\n",
       "  <thead>\n",
       "    <tr style=\"text-align: right;\">\n",
       "      <th></th>\n",
       "      <th>E1</th>\n",
       "      <th>E2</th>\n",
       "      <th>E3</th>\n",
       "      <th>n1</th>\n",
       "      <th>n2</th>\n",
       "      <th>y0</th>\n",
       "      <th>y1</th>\n",
       "      <th>y2</th>\n",
       "      <th>y3</th>\n",
       "      <th>y4</th>\n",
       "      <th>...</th>\n",
       "      <th>y614</th>\n",
       "      <th>y615</th>\n",
       "      <th>y616</th>\n",
       "      <th>y617</th>\n",
       "      <th>y618</th>\n",
       "      <th>y619</th>\n",
       "      <th>y620</th>\n",
       "      <th>y621</th>\n",
       "      <th>y622</th>\n",
       "      <th>y623</th>\n",
       "    </tr>\n",
       "  </thead>\n",
       "  <tbody>\n",
       "    <tr>\n",
       "      <th>0</th>\n",
       "      <td>0.726163</td>\n",
       "      <td>1.248766</td>\n",
       "      <td>1.128671</td>\n",
       "      <td>0.002004</td>\n",
       "      <td>0.000307</td>\n",
       "      <td>151.161315</td>\n",
       "      <td>162.635693</td>\n",
       "      <td>174.959885</td>\n",
       "      <td>188.160860</td>\n",
       "      <td>202.247372</td>\n",
       "      <td>...</td>\n",
       "      <td>231.860564</td>\n",
       "      <td>230.460744</td>\n",
       "      <td>229.060923</td>\n",
       "      <td>227.661103</td>\n",
       "      <td>226.261282</td>\n",
       "      <td>224.861462</td>\n",
       "      <td>223.461642</td>\n",
       "      <td>222.061821</td>\n",
       "      <td>220.662001</td>\n",
       "      <td>219.262180</td>\n",
       "    </tr>\n",
       "    <tr>\n",
       "      <th>1</th>\n",
       "      <td>0.787837</td>\n",
       "      <td>0.925174</td>\n",
       "      <td>1.226117</td>\n",
       "      <td>0.001564</td>\n",
       "      <td>0.000768</td>\n",
       "      <td>76.214299</td>\n",
       "      <td>82.552973</td>\n",
       "      <td>89.424207</td>\n",
       "      <td>96.841738</td>\n",
       "      <td>104.815994</td>\n",
       "      <td>...</td>\n",
       "      <td>27.289983</td>\n",
       "      <td>27.068955</td>\n",
       "      <td>26.847927</td>\n",
       "      <td>26.626899</td>\n",
       "      <td>26.405871</td>\n",
       "      <td>26.184843</td>\n",
       "      <td>25.963815</td>\n",
       "      <td>25.742787</td>\n",
       "      <td>25.521759</td>\n",
       "      <td>25.300731</td>\n",
       "    </tr>\n",
       "    <tr>\n",
       "      <th>2</th>\n",
       "      <td>0.710103</td>\n",
       "      <td>0.902457</td>\n",
       "      <td>1.558539</td>\n",
       "      <td>0.004860</td>\n",
       "      <td>0.000613</td>\n",
       "      <td>237.690669</td>\n",
       "      <td>255.364128</td>\n",
       "      <td>274.301525</td>\n",
       "      <td>294.565482</td>\n",
       "      <td>316.168755</td>\n",
       "      <td>...</td>\n",
       "      <td>20.797302</td>\n",
       "      <td>20.784861</td>\n",
       "      <td>20.772419</td>\n",
       "      <td>20.759978</td>\n",
       "      <td>20.747537</td>\n",
       "      <td>20.735095</td>\n",
       "      <td>20.722654</td>\n",
       "      <td>20.710213</td>\n",
       "      <td>20.697771</td>\n",
       "      <td>20.685330</td>\n",
       "    </tr>\n",
       "    <tr>\n",
       "      <th>3</th>\n",
       "      <td>0.757797</td>\n",
       "      <td>1.187059</td>\n",
       "      <td>1.479970</td>\n",
       "      <td>0.002868</td>\n",
       "      <td>0.000841</td>\n",
       "      <td>149.126863</td>\n",
       "      <td>160.996419</td>\n",
       "      <td>173.786845</td>\n",
       "      <td>187.537822</td>\n",
       "      <td>202.263274</td>\n",
       "      <td>...</td>\n",
       "      <td>240.545521</td>\n",
       "      <td>238.244524</td>\n",
       "      <td>235.943526</td>\n",
       "      <td>233.642528</td>\n",
       "      <td>231.341530</td>\n",
       "      <td>229.040532</td>\n",
       "      <td>226.739534</td>\n",
       "      <td>224.438536</td>\n",
       "      <td>222.137538</td>\n",
       "      <td>219.836540</td>\n",
       "    </tr>\n",
       "    <tr>\n",
       "      <th>4</th>\n",
       "      <td>0.880510</td>\n",
       "      <td>0.987709</td>\n",
       "      <td>1.305003</td>\n",
       "      <td>0.001307</td>\n",
       "      <td>0.000302</td>\n",
       "      <td>8.396414</td>\n",
       "      <td>9.173453</td>\n",
       "      <td>10.035675</td>\n",
       "      <td>10.978705</td>\n",
       "      <td>12.003470</td>\n",
       "      <td>...</td>\n",
       "      <td>34.344680</td>\n",
       "      <td>34.082402</td>\n",
       "      <td>33.820124</td>\n",
       "      <td>33.557846</td>\n",
       "      <td>33.295568</td>\n",
       "      <td>33.033290</td>\n",
       "      <td>32.771012</td>\n",
       "      <td>32.508734</td>\n",
       "      <td>32.246457</td>\n",
       "      <td>31.984179</td>\n",
       "    </tr>\n",
       "  </tbody>\n",
       "</table>\n",
       "<p>5 rows × 629 columns</p>\n",
       "</div>"
      ],
      "text/plain": [
       "         E1        E2        E3        n1        n2          y0          y1  \\\n",
       "0  0.726163  1.248766  1.128671  0.002004  0.000307  151.161315  162.635693   \n",
       "1  0.787837  0.925174  1.226117  0.001564  0.000768   76.214299   82.552973   \n",
       "2  0.710103  0.902457  1.558539  0.004860  0.000613  237.690669  255.364128   \n",
       "3  0.757797  1.187059  1.479970  0.002868  0.000841  149.126863  160.996419   \n",
       "4  0.880510  0.987709  1.305003  0.001307  0.000302    8.396414    9.173453   \n",
       "\n",
       "           y2          y3          y4  ...        y614        y615  \\\n",
       "0  174.959885  188.160860  202.247372  ...  231.860564  230.460744   \n",
       "1   89.424207   96.841738  104.815994  ...   27.289983   27.068955   \n",
       "2  274.301525  294.565482  316.168755  ...   20.797302   20.784861   \n",
       "3  173.786845  187.537822  202.263274  ...  240.545521  238.244524   \n",
       "4   10.035675   10.978705   12.003470  ...   34.344680   34.082402   \n",
       "\n",
       "         y616        y617        y618        y619        y620        y621  \\\n",
       "0  229.060923  227.661103  226.261282  224.861462  223.461642  222.061821   \n",
       "1   26.847927   26.626899   26.405871   26.184843   25.963815   25.742787   \n",
       "2   20.772419   20.759978   20.747537   20.735095   20.722654   20.710213   \n",
       "3  235.943526  233.642528  231.341530  229.040532  226.739534  224.438536   \n",
       "4   33.820124   33.557846   33.295568   33.033290   32.771012   32.508734   \n",
       "\n",
       "         y622        y623  \n",
       "0  220.662001  219.262180  \n",
       "1   25.521759   25.300731  \n",
       "2   20.697771   20.685330  \n",
       "3  222.137538  219.836540  \n",
       "4   32.246457   31.984179  \n",
       "\n",
       "[5 rows x 629 columns]"
      ]
     },
     "execution_count": 4,
     "metadata": {},
     "output_type": "execute_result"
    }
   ],
   "source": [
    "data.head()"
   ]
  },
  {
   "cell_type": "markdown",
   "metadata": {
    "editable": true,
    "slideshow": {
     "slide_type": "slide"
    },
    "tags": []
   },
   "source": [
    "### Inputs"
   ]
  },
  {
   "cell_type": "code",
   "execution_count": 5,
   "metadata": {},
   "outputs": [
    {
     "data": {
      "text/html": [
       "<div>\n",
       "<style scoped>\n",
       "    .dataframe tbody tr th:only-of-type {\n",
       "        vertical-align: middle;\n",
       "    }\n",
       "\n",
       "    .dataframe tbody tr th {\n",
       "        vertical-align: top;\n",
       "    }\n",
       "\n",
       "    .dataframe thead th {\n",
       "        text-align: right;\n",
       "    }\n",
       "</style>\n",
       "<table border=\"1\" class=\"dataframe\">\n",
       "  <thead>\n",
       "    <tr style=\"text-align: right;\">\n",
       "      <th></th>\n",
       "      <th>E1</th>\n",
       "      <th>E2</th>\n",
       "      <th>E3</th>\n",
       "      <th>n1</th>\n",
       "      <th>n2</th>\n",
       "    </tr>\n",
       "  </thead>\n",
       "  <tbody>\n",
       "    <tr>\n",
       "      <th>0</th>\n",
       "      <td>0.726163</td>\n",
       "      <td>1.248766</td>\n",
       "      <td>1.128671</td>\n",
       "      <td>0.002004</td>\n",
       "      <td>0.000307</td>\n",
       "    </tr>\n",
       "    <tr>\n",
       "      <th>1</th>\n",
       "      <td>0.787837</td>\n",
       "      <td>0.925174</td>\n",
       "      <td>1.226117</td>\n",
       "      <td>0.001564</td>\n",
       "      <td>0.000768</td>\n",
       "    </tr>\n",
       "    <tr>\n",
       "      <th>2</th>\n",
       "      <td>0.710103</td>\n",
       "      <td>0.902457</td>\n",
       "      <td>1.558539</td>\n",
       "      <td>0.004860</td>\n",
       "      <td>0.000613</td>\n",
       "    </tr>\n",
       "    <tr>\n",
       "      <th>3</th>\n",
       "      <td>0.757797</td>\n",
       "      <td>1.187059</td>\n",
       "      <td>1.479970</td>\n",
       "      <td>0.002868</td>\n",
       "      <td>0.000841</td>\n",
       "    </tr>\n",
       "    <tr>\n",
       "      <th>4</th>\n",
       "      <td>0.880510</td>\n",
       "      <td>0.987709</td>\n",
       "      <td>1.305003</td>\n",
       "      <td>0.001307</td>\n",
       "      <td>0.000302</td>\n",
       "    </tr>\n",
       "  </tbody>\n",
       "</table>\n",
       "</div>"
      ],
      "text/plain": [
       "         E1        E2        E3        n1        n2\n",
       "0  0.726163  1.248766  1.128671  0.002004  0.000307\n",
       "1  0.787837  0.925174  1.226117  0.001564  0.000768\n",
       "2  0.710103  0.902457  1.558539  0.004860  0.000613\n",
       "3  0.757797  1.187059  1.479970  0.002868  0.000841\n",
       "4  0.880510  0.987709  1.305003  0.001307  0.000302"
      ]
     },
     "execution_count": 5,
     "metadata": {},
     "output_type": "execute_result"
    }
   ],
   "source": [
    "data.iloc[:,:5].head()"
   ]
  },
  {
   "cell_type": "markdown",
   "metadata": {
    "editable": true,
    "slideshow": {
     "slide_type": "slide"
    },
    "tags": []
   },
   "source": [
    "### Outputs"
   ]
  },
  {
   "cell_type": "code",
   "execution_count": 6,
   "metadata": {},
   "outputs": [
    {
     "data": {
      "text/html": [
       "<div>\n",
       "<style scoped>\n",
       "    .dataframe tbody tr th:only-of-type {\n",
       "        vertical-align: middle;\n",
       "    }\n",
       "\n",
       "    .dataframe tbody tr th {\n",
       "        vertical-align: top;\n",
       "    }\n",
       "\n",
       "    .dataframe thead th {\n",
       "        text-align: right;\n",
       "    }\n",
       "</style>\n",
       "<table border=\"1\" class=\"dataframe\">\n",
       "  <thead>\n",
       "    <tr style=\"text-align: right;\">\n",
       "      <th></th>\n",
       "      <th>y0</th>\n",
       "      <th>y1</th>\n",
       "      <th>y2</th>\n",
       "      <th>y3</th>\n",
       "      <th>y4</th>\n",
       "      <th>y5</th>\n",
       "      <th>y6</th>\n",
       "      <th>y7</th>\n",
       "      <th>y8</th>\n",
       "      <th>y9</th>\n",
       "      <th>...</th>\n",
       "      <th>y614</th>\n",
       "      <th>y615</th>\n",
       "      <th>y616</th>\n",
       "      <th>y617</th>\n",
       "      <th>y618</th>\n",
       "      <th>y619</th>\n",
       "      <th>y620</th>\n",
       "      <th>y621</th>\n",
       "      <th>y622</th>\n",
       "      <th>y623</th>\n",
       "    </tr>\n",
       "  </thead>\n",
       "  <tbody>\n",
       "    <tr>\n",
       "      <th>0</th>\n",
       "      <td>151.161315</td>\n",
       "      <td>162.635693</td>\n",
       "      <td>174.959885</td>\n",
       "      <td>188.160860</td>\n",
       "      <td>202.247372</td>\n",
       "      <td>217.175262</td>\n",
       "      <td>232.943058</td>\n",
       "      <td>250.167923</td>\n",
       "      <td>268.117128</td>\n",
       "      <td>287.380759</td>\n",
       "      <td>...</td>\n",
       "      <td>231.860564</td>\n",
       "      <td>230.460744</td>\n",
       "      <td>229.060923</td>\n",
       "      <td>227.661103</td>\n",
       "      <td>226.261282</td>\n",
       "      <td>224.861462</td>\n",
       "      <td>223.461642</td>\n",
       "      <td>222.061821</td>\n",
       "      <td>220.662001</td>\n",
       "      <td>219.262180</td>\n",
       "    </tr>\n",
       "    <tr>\n",
       "      <th>1</th>\n",
       "      <td>76.214299</td>\n",
       "      <td>82.552973</td>\n",
       "      <td>89.424207</td>\n",
       "      <td>96.841738</td>\n",
       "      <td>104.815994</td>\n",
       "      <td>113.323507</td>\n",
       "      <td>122.365888</td>\n",
       "      <td>132.348309</td>\n",
       "      <td>142.803559</td>\n",
       "      <td>154.119150</td>\n",
       "      <td>...</td>\n",
       "      <td>27.289983</td>\n",
       "      <td>27.068955</td>\n",
       "      <td>26.847927</td>\n",
       "      <td>26.626899</td>\n",
       "      <td>26.405871</td>\n",
       "      <td>26.184843</td>\n",
       "      <td>25.963815</td>\n",
       "      <td>25.742787</td>\n",
       "      <td>25.521759</td>\n",
       "      <td>25.300731</td>\n",
       "    </tr>\n",
       "    <tr>\n",
       "      <th>2</th>\n",
       "      <td>237.690669</td>\n",
       "      <td>255.364128</td>\n",
       "      <td>274.301525</td>\n",
       "      <td>294.565482</td>\n",
       "      <td>316.168755</td>\n",
       "      <td>339.043227</td>\n",
       "      <td>363.185817</td>\n",
       "      <td>389.523115</td>\n",
       "      <td>416.948605</td>\n",
       "      <td>446.347589</td>\n",
       "      <td>...</td>\n",
       "      <td>20.797302</td>\n",
       "      <td>20.784861</td>\n",
       "      <td>20.772419</td>\n",
       "      <td>20.759978</td>\n",
       "      <td>20.747537</td>\n",
       "      <td>20.735095</td>\n",
       "      <td>20.722654</td>\n",
       "      <td>20.710213</td>\n",
       "      <td>20.697771</td>\n",
       "      <td>20.685330</td>\n",
       "    </tr>\n",
       "    <tr>\n",
       "      <th>3</th>\n",
       "      <td>149.126863</td>\n",
       "      <td>160.996419</td>\n",
       "      <td>173.786845</td>\n",
       "      <td>187.537822</td>\n",
       "      <td>202.263274</td>\n",
       "      <td>217.917945</td>\n",
       "      <td>234.502152</td>\n",
       "      <td>252.708130</td>\n",
       "      <td>271.724431</td>\n",
       "      <td>292.212914</td>\n",
       "      <td>...</td>\n",
       "      <td>240.545521</td>\n",
       "      <td>238.244524</td>\n",
       "      <td>235.943526</td>\n",
       "      <td>233.642528</td>\n",
       "      <td>231.341530</td>\n",
       "      <td>229.040532</td>\n",
       "      <td>226.739534</td>\n",
       "      <td>224.438536</td>\n",
       "      <td>222.137538</td>\n",
       "      <td>219.836540</td>\n",
       "    </tr>\n",
       "    <tr>\n",
       "      <th>4</th>\n",
       "      <td>8.396414</td>\n",
       "      <td>9.173453</td>\n",
       "      <td>10.035675</td>\n",
       "      <td>10.978705</td>\n",
       "      <td>12.003470</td>\n",
       "      <td>13.107220</td>\n",
       "      <td>14.290708</td>\n",
       "      <td>15.616960</td>\n",
       "      <td>17.016221</td>\n",
       "      <td>18.548823</td>\n",
       "      <td>...</td>\n",
       "      <td>34.344680</td>\n",
       "      <td>34.082402</td>\n",
       "      <td>33.820124</td>\n",
       "      <td>33.557846</td>\n",
       "      <td>33.295568</td>\n",
       "      <td>33.033290</td>\n",
       "      <td>32.771012</td>\n",
       "      <td>32.508734</td>\n",
       "      <td>32.246457</td>\n",
       "      <td>31.984179</td>\n",
       "    </tr>\n",
       "  </tbody>\n",
       "</table>\n",
       "<p>5 rows × 624 columns</p>\n",
       "</div>"
      ],
      "text/plain": [
       "           y0          y1          y2          y3          y4          y5  \\\n",
       "0  151.161315  162.635693  174.959885  188.160860  202.247372  217.175262   \n",
       "1   76.214299   82.552973   89.424207   96.841738  104.815994  113.323507   \n",
       "2  237.690669  255.364128  274.301525  294.565482  316.168755  339.043227   \n",
       "3  149.126863  160.996419  173.786845  187.537822  202.263274  217.917945   \n",
       "4    8.396414    9.173453   10.035675   10.978705   12.003470   13.107220   \n",
       "\n",
       "           y6          y7          y8          y9  ...        y614  \\\n",
       "0  232.943058  250.167923  268.117128  287.380759  ...  231.860564   \n",
       "1  122.365888  132.348309  142.803559  154.119150  ...   27.289983   \n",
       "2  363.185817  389.523115  416.948605  446.347589  ...   20.797302   \n",
       "3  234.502152  252.708130  271.724431  292.212914  ...  240.545521   \n",
       "4   14.290708   15.616960   17.016221   18.548823  ...   34.344680   \n",
       "\n",
       "         y615        y616        y617        y618        y619        y620  \\\n",
       "0  230.460744  229.060923  227.661103  226.261282  224.861462  223.461642   \n",
       "1   27.068955   26.847927   26.626899   26.405871   26.184843   25.963815   \n",
       "2   20.784861   20.772419   20.759978   20.747537   20.735095   20.722654   \n",
       "3  238.244524  235.943526  233.642528  231.341530  229.040532  226.739534   \n",
       "4   34.082402   33.820124   33.557846   33.295568   33.033290   32.771012   \n",
       "\n",
       "         y621        y622        y623  \n",
       "0  222.061821  220.662001  219.262180  \n",
       "1   25.742787   25.521759   25.300731  \n",
       "2   20.710213   20.697771   20.685330  \n",
       "3  224.438536  222.137538  219.836540  \n",
       "4   32.508734   32.246457   31.984179  \n",
       "\n",
       "[5 rows x 624 columns]"
      ]
     },
     "execution_count": 6,
     "metadata": {},
     "output_type": "execute_result"
    }
   ],
   "source": [
    "data.iloc[:,5:].head()"
   ]
  },
  {
   "cell_type": "markdown",
   "metadata": {
    "editable": true,
    "slideshow": {
     "slide_type": "slide"
    },
    "tags": []
   },
   "source": [
    "### Temperature grid"
   ]
  },
  {
   "cell_type": "code",
   "execution_count": 7,
   "metadata": {},
   "outputs": [
    {
     "data": {
      "text/html": [
       "<div>\n",
       "<style scoped>\n",
       "    .dataframe tbody tr th:only-of-type {\n",
       "        vertical-align: middle;\n",
       "    }\n",
       "\n",
       "    .dataframe tbody tr th {\n",
       "        vertical-align: top;\n",
       "    }\n",
       "\n",
       "    .dataframe thead th {\n",
       "        text-align: right;\n",
       "    }\n",
       "</style>\n",
       "<table border=\"1\" class=\"dataframe\">\n",
       "  <thead>\n",
       "    <tr style=\"text-align: right;\">\n",
       "      <th></th>\n",
       "      <th>0</th>\n",
       "    </tr>\n",
       "  </thead>\n",
       "  <tbody>\n",
       "    <tr>\n",
       "      <th>0</th>\n",
       "      <td>300.000000</td>\n",
       "    </tr>\n",
       "    <tr>\n",
       "      <th>1</th>\n",
       "      <td>300.802568</td>\n",
       "    </tr>\n",
       "    <tr>\n",
       "      <th>2</th>\n",
       "      <td>301.605136</td>\n",
       "    </tr>\n",
       "    <tr>\n",
       "      <th>3</th>\n",
       "      <td>302.407705</td>\n",
       "    </tr>\n",
       "    <tr>\n",
       "      <th>4</th>\n",
       "      <td>303.210273</td>\n",
       "    </tr>\n",
       "  </tbody>\n",
       "</table>\n",
       "</div>"
      ],
      "text/plain": [
       "            0\n",
       "0  300.000000\n",
       "1  300.802568\n",
       "2  301.605136\n",
       "3  302.407705\n",
       "4  303.210273"
      ]
     },
     "execution_count": 7,
     "metadata": {},
     "output_type": "execute_result"
    }
   ],
   "source": [
    "df_grid = pd.DataFrame(np.linspace(300, 800, 624))\n",
    "df_grid.head()"
   ]
  },
  {
   "cell_type": "markdown",
   "metadata": {
    "editable": true,
    "slideshow": {
     "slide_type": "slide"
    },
    "tags": []
   },
   "source": [
    "The 5 parameters $E_1$, $E_2$, $E_3$, $n_1$, and $n_2$ are physical properties of the material characterising the trapping of tritium isotopes.\n",
    "\n",
    "- $E_i$ refers to the detrapping energies of tritium trap sites in $eV$. \n",
    "- $n_i$ are the densities of the trapping site.\n",
    "\n",
    "The incrementing number $i$ relates to discrete trapping sites.\n",
    "\n",
    "It might be noticed that the trapping density $n_3$ which should compliment $E_3$ is not present. This trap is an implantation trap created through irradiation damage and is not considered in this model."
   ]
  },
  {
   "cell_type": "markdown",
   "metadata": {
    "editable": true,
    "slideshow": {
     "slide_type": "skip"
    },
    "tags": []
   },
   "source": [
    "***"
   ]
  },
  {
   "cell_type": "markdown",
   "metadata": {
    "editable": true,
    "slideshow": {
     "slide_type": "slide"
    },
    "tags": []
   },
   "source": [
    "### Uploading data to the `twinLab` cloud"
   ]
  },
  {
   "cell_type": "code",
   "execution_count": 8,
   "metadata": {
    "editable": true,
    "slideshow": {
     "slide_type": ""
    },
    "tags": []
   },
   "outputs": [
    {
     "name": "stdout",
     "output_type": "stream",
     "text": [
      "Dataframe is uploading.\n",
      "Processing dataset\n",
      "Dataset tritium_desorption was processed.\n"
     ]
    }
   ],
   "source": [
    "dataset = tl.Dataset(\"tritium_desorption\")\n",
    "dataset.upload(data, verbose=True)"
   ]
  },
  {
   "cell_type": "markdown",
   "metadata": {
    "editable": true,
    "slideshow": {
     "slide_type": "slide"
    },
    "tags": []
   },
   "source": [
    "### Define the columns"
   ]
  },
  {
   "cell_type": "code",
   "execution_count": 9,
   "metadata": {},
   "outputs": [],
   "source": [
    "inputs = [\"E1\", \"E2\", \"E3\", \"n1\", \"n2\"]\n",
    "outputs = [f\"y{i}\" for i in range(len(df_grid))]"
   ]
  },
  {
   "attachments": {},
   "cell_type": "markdown",
   "metadata": {
    "editable": true,
    "slideshow": {
     "slide_type": "slide"
    },
    "tags": []
   },
   "source": [
    "### Check dataset has uploaded"
   ]
  },
  {
   "cell_type": "code",
   "execution_count": 10,
   "metadata": {},
   "outputs": [
    {
     "data": {
      "text/html": [
       "<div>\n",
       "<style scoped>\n",
       "    .dataframe tbody tr th:only-of-type {\n",
       "        vertical-align: middle;\n",
       "    }\n",
       "\n",
       "    .dataframe tbody tr th {\n",
       "        vertical-align: top;\n",
       "    }\n",
       "\n",
       "    .dataframe thead th {\n",
       "        text-align: right;\n",
       "    }\n",
       "</style>\n",
       "<table border=\"1\" class=\"dataframe\">\n",
       "  <thead>\n",
       "    <tr style=\"text-align: right;\">\n",
       "      <th></th>\n",
       "      <th>E1</th>\n",
       "      <th>E2</th>\n",
       "      <th>E3</th>\n",
       "      <th>n1</th>\n",
       "      <th>n2</th>\n",
       "      <th>y0</th>\n",
       "      <th>y1</th>\n",
       "      <th>y2</th>\n",
       "      <th>y3</th>\n",
       "      <th>y4</th>\n",
       "      <th>...</th>\n",
       "      <th>y614</th>\n",
       "      <th>y615</th>\n",
       "      <th>y616</th>\n",
       "      <th>y617</th>\n",
       "      <th>y618</th>\n",
       "      <th>y619</th>\n",
       "      <th>y620</th>\n",
       "      <th>y621</th>\n",
       "      <th>y622</th>\n",
       "      <th>y623</th>\n",
       "    </tr>\n",
       "  </thead>\n",
       "  <tbody>\n",
       "    <tr>\n",
       "      <th>count</th>\n",
       "      <td>400.000000</td>\n",
       "      <td>400.000000</td>\n",
       "      <td>400.000000</td>\n",
       "      <td>400.000000</td>\n",
       "      <td>400.000000</td>\n",
       "      <td>400.000000</td>\n",
       "      <td>400.000000</td>\n",
       "      <td>400.000000</td>\n",
       "      <td>400.000000</td>\n",
       "      <td>400.000000</td>\n",
       "      <td>...</td>\n",
       "      <td>400.000000</td>\n",
       "      <td>400.000000</td>\n",
       "      <td>400.000000</td>\n",
       "      <td>400.000000</td>\n",
       "      <td>400.000000</td>\n",
       "      <td>400.000000</td>\n",
       "      <td>400.000000</td>\n",
       "      <td>400.000000</td>\n",
       "      <td>400.000000</td>\n",
       "      <td>400.000000</td>\n",
       "    </tr>\n",
       "    <tr>\n",
       "      <th>mean</th>\n",
       "      <td>0.847811</td>\n",
       "      <td>1.096564</td>\n",
       "      <td>1.439218</td>\n",
       "      <td>0.002780</td>\n",
       "      <td>0.000550</td>\n",
       "      <td>63.616745</td>\n",
       "      <td>68.738022</td>\n",
       "      <td>74.268843</td>\n",
       "      <td>80.225457</td>\n",
       "      <td>86.614246</td>\n",
       "      <td>...</td>\n",
       "      <td>157.627986</td>\n",
       "      <td>155.698258</td>\n",
       "      <td>153.791534</td>\n",
       "      <td>151.925019</td>\n",
       "      <td>150.109680</td>\n",
       "      <td>148.368436</td>\n",
       "      <td>146.699913</td>\n",
       "      <td>145.081351</td>\n",
       "      <td>143.521235</td>\n",
       "      <td>142.050558</td>\n",
       "    </tr>\n",
       "    <tr>\n",
       "      <th>std</th>\n",
       "      <td>0.086283</td>\n",
       "      <td>0.113226</td>\n",
       "      <td>0.183739</td>\n",
       "      <td>0.001264</td>\n",
       "      <td>0.000254</td>\n",
       "      <td>67.957420</td>\n",
       "      <td>73.176856</td>\n",
       "      <td>78.781502</td>\n",
       "      <td>84.790606</td>\n",
       "      <td>91.209583</td>\n",
       "      <td>...</td>\n",
       "      <td>129.272082</td>\n",
       "      <td>127.675363</td>\n",
       "      <td>126.088617</td>\n",
       "      <td>124.535886</td>\n",
       "      <td>123.017584</td>\n",
       "      <td>121.607353</td>\n",
       "      <td>120.256527</td>\n",
       "      <td>118.971253</td>\n",
       "      <td>117.744345</td>\n",
       "      <td>116.580433</td>\n",
       "    </tr>\n",
       "    <tr>\n",
       "      <th>min</th>\n",
       "      <td>0.700338</td>\n",
       "      <td>0.902457</td>\n",
       "      <td>1.103538</td>\n",
       "      <td>0.000522</td>\n",
       "      <td>0.000100</td>\n",
       "      <td>0.196362</td>\n",
       "      <td>0.211539</td>\n",
       "      <td>0.229855</td>\n",
       "      <td>0.251530</td>\n",
       "      <td>0.276392</td>\n",
       "      <td>...</td>\n",
       "      <td>14.606599</td>\n",
       "      <td>14.479768</td>\n",
       "      <td>14.352937</td>\n",
       "      <td>14.226106</td>\n",
       "      <td>14.099275</td>\n",
       "      <td>13.972443</td>\n",
       "      <td>13.859014</td>\n",
       "      <td>13.795103</td>\n",
       "      <td>13.731193</td>\n",
       "      <td>13.667283</td>\n",
       "    </tr>\n",
       "    <tr>\n",
       "      <th>25%</th>\n",
       "      <td>0.776996</td>\n",
       "      <td>1.004006</td>\n",
       "      <td>1.280775</td>\n",
       "      <td>0.001742</td>\n",
       "      <td>0.000322</td>\n",
       "      <td>3.537697</td>\n",
       "      <td>3.885903</td>\n",
       "      <td>4.276821</td>\n",
       "      <td>4.708195</td>\n",
       "      <td>5.180239</td>\n",
       "      <td>...</td>\n",
       "      <td>56.559485</td>\n",
       "      <td>55.348967</td>\n",
       "      <td>54.792811</td>\n",
       "      <td>54.261045</td>\n",
       "      <td>53.649977</td>\n",
       "      <td>53.174523</td>\n",
       "      <td>52.682897</td>\n",
       "      <td>52.217491</td>\n",
       "      <td>51.752085</td>\n",
       "      <td>51.286679</td>\n",
       "    </tr>\n",
       "    <tr>\n",
       "      <th>50%</th>\n",
       "      <td>0.846752</td>\n",
       "      <td>1.089826</td>\n",
       "      <td>1.435188</td>\n",
       "      <td>0.002727</td>\n",
       "      <td>0.000586</td>\n",
       "      <td>36.774773</td>\n",
       "      <td>39.906207</td>\n",
       "      <td>43.325062</td>\n",
       "      <td>47.027279</td>\n",
       "      <td>51.064771</td>\n",
       "      <td>...</td>\n",
       "      <td>107.416362</td>\n",
       "      <td>105.600722</td>\n",
       "      <td>103.692040</td>\n",
       "      <td>102.330026</td>\n",
       "      <td>100.959823</td>\n",
       "      <td>99.268617</td>\n",
       "      <td>97.204510</td>\n",
       "      <td>95.933177</td>\n",
       "      <td>95.009437</td>\n",
       "      <td>94.414959</td>\n",
       "    </tr>\n",
       "    <tr>\n",
       "      <th>75%</th>\n",
       "      <td>0.923479</td>\n",
       "      <td>1.195031</td>\n",
       "      <td>1.588289</td>\n",
       "      <td>0.003888</td>\n",
       "      <td>0.000756</td>\n",
       "      <td>115.459778</td>\n",
       "      <td>124.577895</td>\n",
       "      <td>134.334042</td>\n",
       "      <td>144.675130</td>\n",
       "      <td>155.701166</td>\n",
       "      <td>...</td>\n",
       "      <td>229.406402</td>\n",
       "      <td>225.469490</td>\n",
       "      <td>221.774944</td>\n",
       "      <td>218.803463</td>\n",
       "      <td>216.469849</td>\n",
       "      <td>215.345999</td>\n",
       "      <td>214.276326</td>\n",
       "      <td>212.193851</td>\n",
       "      <td>210.915756</td>\n",
       "      <td>209.545537</td>\n",
       "    </tr>\n",
       "    <tr>\n",
       "      <th>max</th>\n",
       "      <td>0.997323</td>\n",
       "      <td>1.299867</td>\n",
       "      <td>1.748338</td>\n",
       "      <td>0.004999</td>\n",
       "      <td>0.000995</td>\n",
       "      <td>237.690669</td>\n",
       "      <td>255.364128</td>\n",
       "      <td>274.301525</td>\n",
       "      <td>294.565482</td>\n",
       "      <td>316.168755</td>\n",
       "      <td>...</td>\n",
       "      <td>588.863886</td>\n",
       "      <td>580.444606</td>\n",
       "      <td>572.025325</td>\n",
       "      <td>566.343375</td>\n",
       "      <td>561.015743</td>\n",
       "      <td>555.688111</td>\n",
       "      <td>551.873262</td>\n",
       "      <td>551.336235</td>\n",
       "      <td>550.799209</td>\n",
       "      <td>550.262183</td>\n",
       "    </tr>\n",
       "  </tbody>\n",
       "</table>\n",
       "<p>8 rows × 629 columns</p>\n",
       "</div>"
      ],
      "text/plain": [
       "               E1          E2          E3          n1          n2          y0  \\\n",
       "count  400.000000  400.000000  400.000000  400.000000  400.000000  400.000000   \n",
       "mean     0.847811    1.096564    1.439218    0.002780    0.000550   63.616745   \n",
       "std      0.086283    0.113226    0.183739    0.001264    0.000254   67.957420   \n",
       "min      0.700338    0.902457    1.103538    0.000522    0.000100    0.196362   \n",
       "25%      0.776996    1.004006    1.280775    0.001742    0.000322    3.537697   \n",
       "50%      0.846752    1.089826    1.435188    0.002727    0.000586   36.774773   \n",
       "75%      0.923479    1.195031    1.588289    0.003888    0.000756  115.459778   \n",
       "max      0.997323    1.299867    1.748338    0.004999    0.000995  237.690669   \n",
       "\n",
       "               y1          y2          y3          y4  ...        y614  \\\n",
       "count  400.000000  400.000000  400.000000  400.000000  ...  400.000000   \n",
       "mean    68.738022   74.268843   80.225457   86.614246  ...  157.627986   \n",
       "std     73.176856   78.781502   84.790606   91.209583  ...  129.272082   \n",
       "min      0.211539    0.229855    0.251530    0.276392  ...   14.606599   \n",
       "25%      3.885903    4.276821    4.708195    5.180239  ...   56.559485   \n",
       "50%     39.906207   43.325062   47.027279   51.064771  ...  107.416362   \n",
       "75%    124.577895  134.334042  144.675130  155.701166  ...  229.406402   \n",
       "max    255.364128  274.301525  294.565482  316.168755  ...  588.863886   \n",
       "\n",
       "             y615        y616        y617        y618        y619        y620  \\\n",
       "count  400.000000  400.000000  400.000000  400.000000  400.000000  400.000000   \n",
       "mean   155.698258  153.791534  151.925019  150.109680  148.368436  146.699913   \n",
       "std    127.675363  126.088617  124.535886  123.017584  121.607353  120.256527   \n",
       "min     14.479768   14.352937   14.226106   14.099275   13.972443   13.859014   \n",
       "25%     55.348967   54.792811   54.261045   53.649977   53.174523   52.682897   \n",
       "50%    105.600722  103.692040  102.330026  100.959823   99.268617   97.204510   \n",
       "75%    225.469490  221.774944  218.803463  216.469849  215.345999  214.276326   \n",
       "max    580.444606  572.025325  566.343375  561.015743  555.688111  551.873262   \n",
       "\n",
       "             y621        y622        y623  \n",
       "count  400.000000  400.000000  400.000000  \n",
       "mean   145.081351  143.521235  142.050558  \n",
       "std    118.971253  117.744345  116.580433  \n",
       "min     13.795103   13.731193   13.667283  \n",
       "25%     52.217491   51.752085   51.286679  \n",
       "50%     95.933177   95.009437   94.414959  \n",
       "75%    212.193851  210.915756  209.545537  \n",
       "max    551.336235  550.799209  550.262183  \n",
       "\n",
       "[8 rows x 629 columns]"
      ]
     },
     "execution_count": 10,
     "metadata": {},
     "output_type": "execute_result"
    }
   ],
   "source": [
    "dataset_summary = dataset.summarise()\n",
    "dataset_summary"
   ]
  },
  {
   "cell_type": "markdown",
   "metadata": {
    "editable": true,
    "slideshow": {
     "slide_type": "slide"
    },
    "tags": []
   },
   "source": [
    "### Dimensional reduction"
   ]
  },
  {
   "cell_type": "code",
   "execution_count": 11,
   "metadata": {},
   "outputs": [],
   "source": [
    "variance = dataset.analyse_output_variance(outputs)"
   ]
  },
  {
   "cell_type": "code",
   "execution_count": 12,
   "metadata": {},
   "outputs": [
    {
     "data": {
      "text/html": [
       "<div>\n",
       "<style scoped>\n",
       "    .dataframe tbody tr th:only-of-type {\n",
       "        vertical-align: middle;\n",
       "    }\n",
       "\n",
       "    .dataframe tbody tr th {\n",
       "        vertical-align: top;\n",
       "    }\n",
       "\n",
       "    .dataframe thead th {\n",
       "        text-align: right;\n",
       "    }\n",
       "</style>\n",
       "<table border=\"1\" class=\"dataframe\">\n",
       "  <thead>\n",
       "    <tr style=\"text-align: right;\">\n",
       "      <th></th>\n",
       "      <th>Number of Dimensions</th>\n",
       "      <th>Cumulative Variance</th>\n",
       "    </tr>\n",
       "  </thead>\n",
       "  <tbody>\n",
       "    <tr>\n",
       "      <th>0</th>\n",
       "      <td>0</td>\n",
       "      <td>0.000000</td>\n",
       "    </tr>\n",
       "    <tr>\n",
       "      <th>1</th>\n",
       "      <td>1</td>\n",
       "      <td>0.265579</td>\n",
       "    </tr>\n",
       "    <tr>\n",
       "      <th>2</th>\n",
       "      <td>2</td>\n",
       "      <td>0.734992</td>\n",
       "    </tr>\n",
       "    <tr>\n",
       "      <th>3</th>\n",
       "      <td>3</td>\n",
       "      <td>0.895238</td>\n",
       "    </tr>\n",
       "    <tr>\n",
       "      <th>4</th>\n",
       "      <td>4</td>\n",
       "      <td>0.969070</td>\n",
       "    </tr>\n",
       "    <tr>\n",
       "      <th>5</th>\n",
       "      <td>5</td>\n",
       "      <td>0.989724</td>\n",
       "    </tr>\n",
       "    <tr>\n",
       "      <th>6</th>\n",
       "      <td>6</td>\n",
       "      <td>0.996053</td>\n",
       "    </tr>\n",
       "    <tr>\n",
       "      <th>7</th>\n",
       "      <td>7</td>\n",
       "      <td>0.998313</td>\n",
       "    </tr>\n",
       "    <tr>\n",
       "      <th>8</th>\n",
       "      <td>8</td>\n",
       "      <td>0.999210</td>\n",
       "    </tr>\n",
       "    <tr>\n",
       "      <th>9</th>\n",
       "      <td>9</td>\n",
       "      <td>0.999563</td>\n",
       "    </tr>\n",
       "  </tbody>\n",
       "</table>\n",
       "</div>"
      ],
      "text/plain": [
       "   Number of Dimensions  Cumulative Variance\n",
       "0                     0             0.000000\n",
       "1                     1             0.265579\n",
       "2                     2             0.734992\n",
       "3                     3             0.895238\n",
       "4                     4             0.969070\n",
       "5                     5             0.989724\n",
       "6                     6             0.996053\n",
       "7                     7             0.998313\n",
       "8                     8             0.999210\n",
       "9                     9             0.999563"
      ]
     },
     "execution_count": 12,
     "metadata": {},
     "output_type": "execute_result"
    }
   ],
   "source": [
    "variance.iloc[:10]"
   ]
  },
  {
   "cell_type": "code",
   "execution_count": 13,
   "metadata": {
    "editable": true,
    "slideshow": {
     "slide_type": "slide"
    },
    "tags": []
   },
   "outputs": [
    {
     "data": {
      "text/plain": [
       "(0.9, 1.01)"
      ]
     },
     "execution_count": 13,
     "metadata": {},
     "output_type": "execute_result"
    },
    {
     "data": {
      "image/png": "[encoded data removed]",
      "text/plain": [
       "<Figure size 640x480 with 1 Axes>"
      ]
     },
     "metadata": {},
     "output_type": "display_data"
    }
   ],
   "source": [
    "plt.plot(variance['Number of Dimensions'], variance['Cumulative Variance'], 'x--')\n",
    "plt.xscale('log')\n",
    "plt.ylim(0.9,1.01)"
   ]
  },
  {
   "cell_type": "markdown",
   "metadata": {
    "editable": true,
    "slideshow": {
     "slide_type": "skip"
    },
    "tags": []
   },
   "source": [
    "*** "
   ]
  },
  {
   "cell_type": "markdown",
   "metadata": {
    "editable": true,
    "slideshow": {
     "slide_type": "slide"
    },
    "tags": []
   },
   "source": [
    "### Setting up an emulator"
   ]
  },
  {
   "attachments": {},
   "cell_type": "markdown",
   "metadata": {
    "editable": true,
    "slideshow": {
     "slide_type": ""
    },
    "tags": []
   },
   "source": [
    "In this case we are training a functional model, which means that we want to return a *function* at every point in parameter space ($E_1$, $E_2$, $E_3$, $n_1$, $n_2$). In this case, our function describes the tritium desorption rate, $D$, of the material of the reactor wall as a function of temperature (rate of emitted nuclei per reactor wall area). The training of the surrogate is agnostic to the values of reactor temperature, $T$, so we must provide this by hand (`df_grid` above, from `file_grid`). The output of our model will therefore be the function $D(T; E_1, E_2, E_3, n_1, n_2)$.\n",
    "\n",
    "The `twinLab` model achieves this by predicting the value of $D$ at $\\sim 500$ points in $T$ in a regularly-spaced grid between $300\\mathrm{K}$ and $800\\mathrm{K}$. The correlations between points adjacent in $T$ are incorporated naturally by the model, and `twinLab` provides a model uncertainty. Here we call the outputs `y`, rather than `D`, as per the typical data-science convention."
   ]
  },
  {
   "cell_type": "markdown",
   "metadata": {
    "editable": true,
    "slideshow": {
     "slide_type": "slide"
    },
    "tags": []
   },
   "source": [
    "### Instantiate emulator"
   ]
  },
  {
   "cell_type": "code",
   "execution_count": 14,
   "metadata": {},
   "outputs": [],
   "source": [
    "emulator = tl.Emulator('tritium_desorption')"
   ]
  },
  {
   "cell_type": "markdown",
   "metadata": {
    "editable": true,
    "slideshow": {
     "slide_type": ""
    },
    "tags": []
   },
   "source": [
    "### Set emulator parameters"
   ]
  },
  {
   "cell_type": "code",
   "execution_count": 15,
   "metadata": {},
   "outputs": [],
   "source": [
    "train_params = tl.TrainParams(\n",
    "    output_retained_dimensions=8,\n",
    "    train_test_ratio=0.8\n",
    ")"
   ]
  },
  {
   "cell_type": "markdown",
   "metadata": {
    "editable": true,
    "slideshow": {
     "slide_type": "slide"
    },
    "tags": []
   },
   "source": [
    "### Train the emulator "
   ]
  },
  {
   "cell_type": "code",
   "execution_count": 16,
   "metadata": {},
   "outputs": [],
   "source": [
    "emulator.train(dataset, inputs, outputs, train_params)"
   ]
  },
  {
   "cell_type": "markdown",
   "metadata": {
    "editable": true,
    "slideshow": {
     "slide_type": "subslide"
    },
    "tags": []
   },
   "source": [
    "### Check emulator score"
   ]
  },
  {
   "cell_type": "code",
   "execution_count": 18,
   "metadata": {},
   "outputs": [
    {
     "name": "stdout",
     "output_type": "stream",
     "text": [
      "RMSE  = 64.74597954202478\n"
     ]
    }
   ],
   "source": [
    "print(f\"RMSE  = {emulator.score(tl.ScoreParams(metric='RMSE', combined_score=True))}\")"
   ]
  },
  {
   "attachments": {},
   "cell_type": "markdown",
   "metadata": {
    "editable": true,
    "slideshow": {
     "slide_type": "slide"
    },
    "tags": []
   },
   "source": [
    "### Evaluate the Emulator on test Data"
   ]
  },
  {
   "cell_type": "code",
   "execution_count": 19,
   "metadata": {},
   "outputs": [
    {
     "data": {
      "text/html": [
       "<div>\n",
       "<style scoped>\n",
       "    .dataframe tbody tr th:only-of-type {\n",
       "        vertical-align: middle;\n",
       "    }\n",
       "\n",
       "    .dataframe tbody tr th {\n",
       "        vertical-align: top;\n",
       "    }\n",
       "\n",
       "    .dataframe thead th {\n",
       "        text-align: right;\n",
       "    }\n",
       "</style>\n",
       "<table border=\"1\" class=\"dataframe\">\n",
       "  <thead>\n",
       "    <tr style=\"text-align: right;\">\n",
       "      <th></th>\n",
       "      <th>y0</th>\n",
       "      <th>y1</th>\n",
       "      <th>y2</th>\n",
       "      <th>y3</th>\n",
       "      <th>y4</th>\n",
       "      <th>y5</th>\n",
       "      <th>y6</th>\n",
       "      <th>y7</th>\n",
       "      <th>y8</th>\n",
       "      <th>y9</th>\n",
       "      <th>...</th>\n",
       "      <th>y614</th>\n",
       "      <th>y615</th>\n",
       "      <th>y616</th>\n",
       "      <th>y617</th>\n",
       "      <th>y618</th>\n",
       "      <th>y619</th>\n",
       "      <th>y620</th>\n",
       "      <th>y621</th>\n",
       "      <th>y622</th>\n",
       "      <th>y623</th>\n",
       "    </tr>\n",
       "  </thead>\n",
       "  <tbody>\n",
       "    <tr>\n",
       "      <th>0</th>\n",
       "      <td>70.092446</td>\n",
       "      <td>76.165177</td>\n",
       "      <td>82.759897</td>\n",
       "      <td>89.904972</td>\n",
       "      <td>97.612662</td>\n",
       "      <td>105.861227</td>\n",
       "      <td>114.652257</td>\n",
       "      <td>124.405028</td>\n",
       "      <td>134.643866</td>\n",
       "      <td>145.765944</td>\n",
       "      <td>...</td>\n",
       "      <td>78.541035</td>\n",
       "      <td>77.655049</td>\n",
       "      <td>76.752809</td>\n",
       "      <td>75.944743</td>\n",
       "      <td>75.284256</td>\n",
       "      <td>74.576611</td>\n",
       "      <td>73.947968</td>\n",
       "      <td>73.264514</td>\n",
       "      <td>72.506889</td>\n",
       "      <td>71.827899</td>\n",
       "    </tr>\n",
       "    <tr>\n",
       "      <th>1</th>\n",
       "      <td>23.717106</td>\n",
       "      <td>25.923108</td>\n",
       "      <td>28.340525</td>\n",
       "      <td>30.976750</td>\n",
       "      <td>33.837381</td>\n",
       "      <td>36.914789</td>\n",
       "      <td>40.210575</td>\n",
       "      <td>43.896277</td>\n",
       "      <td>47.780710</td>\n",
       "      <td>52.027519</td>\n",
       "      <td>...</td>\n",
       "      <td>50.013484</td>\n",
       "      <td>49.356453</td>\n",
       "      <td>48.701990</td>\n",
       "      <td>48.040947</td>\n",
       "      <td>47.438022</td>\n",
       "      <td>46.835197</td>\n",
       "      <td>46.256227</td>\n",
       "      <td>45.635160</td>\n",
       "      <td>44.993075</td>\n",
       "      <td>44.390254</td>\n",
       "    </tr>\n",
       "    <tr>\n",
       "      <th>2</th>\n",
       "      <td>15.980257</td>\n",
       "      <td>17.455000</td>\n",
       "      <td>19.070000</td>\n",
       "      <td>20.829856</td>\n",
       "      <td>22.738205</td>\n",
       "      <td>24.789831</td>\n",
       "      <td>26.985917</td>\n",
       "      <td>29.438967</td>\n",
       "      <td>32.022821</td>\n",
       "      <td>34.845525</td>\n",
       "      <td>...</td>\n",
       "      <td>14.749024</td>\n",
       "      <td>14.520935</td>\n",
       "      <td>14.295041</td>\n",
       "      <td>14.056331</td>\n",
       "      <td>13.847508</td>\n",
       "      <td>13.631523</td>\n",
       "      <td>13.415404</td>\n",
       "      <td>13.210136</td>\n",
       "      <td>13.004880</td>\n",
       "      <td>12.801617</td>\n",
       "    </tr>\n",
       "    <tr>\n",
       "      <th>3</th>\n",
       "      <td>-5.588381</td>\n",
       "      <td>-5.939580</td>\n",
       "      <td>-6.297591</td>\n",
       "      <td>-6.668970</td>\n",
       "      <td>-7.054241</td>\n",
       "      <td>-7.451999</td>\n",
       "      <td>-7.861616</td>\n",
       "      <td>-8.289083</td>\n",
       "      <td>-8.724019</td>\n",
       "      <td>-9.171729</td>\n",
       "      <td>...</td>\n",
       "      <td>425.318009</td>\n",
       "      <td>420.130500</td>\n",
       "      <td>415.024084</td>\n",
       "      <td>410.016263</td>\n",
       "      <td>405.154321</td>\n",
       "      <td>400.624889</td>\n",
       "      <td>396.334600</td>\n",
       "      <td>392.220548</td>\n",
       "      <td>388.356203</td>\n",
       "      <td>384.623648</td>\n",
       "    </tr>\n",
       "    <tr>\n",
       "      <th>4</th>\n",
       "      <td>162.867999</td>\n",
       "      <td>175.078272</td>\n",
       "      <td>188.170616</td>\n",
       "      <td>202.180544</td>\n",
       "      <td>217.116025</td>\n",
       "      <td>232.929938</td>\n",
       "      <td>249.619818</td>\n",
       "      <td>267.827289</td>\n",
       "      <td>286.787791</td>\n",
       "      <td>307.113563</td>\n",
       "      <td>...</td>\n",
       "      <td>109.732817</td>\n",
       "      <td>108.657126</td>\n",
       "      <td>107.617676</td>\n",
       "      <td>106.699313</td>\n",
       "      <td>105.820789</td>\n",
       "      <td>104.938918</td>\n",
       "      <td>104.069420</td>\n",
       "      <td>103.257015</td>\n",
       "      <td>102.505492</td>\n",
       "      <td>101.858784</td>\n",
       "    </tr>\n",
       "  </tbody>\n",
       "</table>\n",
       "<p>5 rows × 624 columns</p>\n",
       "</div>"
      ],
      "text/plain": [
       "           y0          y1          y2          y3          y4          y5  \\\n",
       "0   70.092446   76.165177   82.759897   89.904972   97.612662  105.861227   \n",
       "1   23.717106   25.923108   28.340525   30.976750   33.837381   36.914789   \n",
       "2   15.980257   17.455000   19.070000   20.829856   22.738205   24.789831   \n",
       "3   -5.588381   -5.939580   -6.297591   -6.668970   -7.054241   -7.451999   \n",
       "4  162.867999  175.078272  188.170616  202.180544  217.116025  232.929938   \n",
       "\n",
       "           y6          y7          y8          y9  ...        y614  \\\n",
       "0  114.652257  124.405028  134.643866  145.765944  ...   78.541035   \n",
       "1   40.210575   43.896277   47.780710   52.027519  ...   50.013484   \n",
       "2   26.985917   29.438967   32.022821   34.845525  ...   14.749024   \n",
       "3   -7.861616   -8.289083   -8.724019   -9.171729  ...  425.318009   \n",
       "4  249.619818  267.827289  286.787791  307.113563  ...  109.732817   \n",
       "\n",
       "         y615        y616        y617        y618        y619        y620  \\\n",
       "0   77.655049   76.752809   75.944743   75.284256   74.576611   73.947968   \n",
       "1   49.356453   48.701990   48.040947   47.438022   46.835197   46.256227   \n",
       "2   14.520935   14.295041   14.056331   13.847508   13.631523   13.415404   \n",
       "3  420.130500  415.024084  410.016263  405.154321  400.624889  396.334600   \n",
       "4  108.657126  107.617676  106.699313  105.820789  104.938918  104.069420   \n",
       "\n",
       "         y621        y622        y623  \n",
       "0   73.264514   72.506889   71.827899  \n",
       "1   45.635160   44.993075   44.390254  \n",
       "2   13.210136   13.004880   12.801617  \n",
       "3  392.220548  388.356203  384.623648  \n",
       "4  103.257015  102.505492  101.858784  \n",
       "\n",
       "[5 rows x 624 columns]"
      ]
     },
     "metadata": {},
     "output_type": "display_data"
    },
    {
     "data": {
      "text/html": [
       "<div>\n",
       "<style scoped>\n",
       "    .dataframe tbody tr th:only-of-type {\n",
       "        vertical-align: middle;\n",
       "    }\n",
       "\n",
       "    .dataframe tbody tr th {\n",
       "        vertical-align: top;\n",
       "    }\n",
       "\n",
       "    .dataframe thead th {\n",
       "        text-align: right;\n",
       "    }\n",
       "</style>\n",
       "<table border=\"1\" class=\"dataframe\">\n",
       "  <thead>\n",
       "    <tr style=\"text-align: right;\">\n",
       "      <th></th>\n",
       "      <th>y0</th>\n",
       "      <th>y1</th>\n",
       "      <th>y2</th>\n",
       "      <th>y3</th>\n",
       "      <th>y4</th>\n",
       "      <th>y5</th>\n",
       "      <th>y6</th>\n",
       "      <th>y7</th>\n",
       "      <th>y8</th>\n",
       "      <th>y9</th>\n",
       "      <th>...</th>\n",
       "      <th>y614</th>\n",
       "      <th>y615</th>\n",
       "      <th>y616</th>\n",
       "      <th>y617</th>\n",
       "      <th>y618</th>\n",
       "      <th>y619</th>\n",
       "      <th>y620</th>\n",
       "      <th>y621</th>\n",
       "      <th>y622</th>\n",
       "      <th>y623</th>\n",
       "    </tr>\n",
       "  </thead>\n",
       "  <tbody>\n",
       "    <tr>\n",
       "      <th>0</th>\n",
       "      <td>6.794222</td>\n",
       "      <td>7.228232</td>\n",
       "      <td>7.684292</td>\n",
       "      <td>8.166539</td>\n",
       "      <td>8.674713</td>\n",
       "      <td>9.207315</td>\n",
       "      <td>9.764066</td>\n",
       "      <td>10.360843</td>\n",
       "      <td>10.978138</td>\n",
       "      <td>11.630689</td>\n",
       "      <td>...</td>\n",
       "      <td>24.350423</td>\n",
       "      <td>24.236692</td>\n",
       "      <td>24.117886</td>\n",
       "      <td>23.981524</td>\n",
       "      <td>23.828519</td>\n",
       "      <td>23.736233</td>\n",
       "      <td>23.670037</td>\n",
       "      <td>23.650230</td>\n",
       "      <td>23.690600</td>\n",
       "      <td>23.756774</td>\n",
       "    </tr>\n",
       "    <tr>\n",
       "      <th>1</th>\n",
       "      <td>8.274640</td>\n",
       "      <td>8.819162</td>\n",
       "      <td>9.394571</td>\n",
       "      <td>10.004409</td>\n",
       "      <td>10.648539</td>\n",
       "      <td>11.325015</td>\n",
       "      <td>12.033590</td>\n",
       "      <td>12.795905</td>\n",
       "      <td>13.585411</td>\n",
       "      <td>14.422596</td>\n",
       "      <td>...</td>\n",
       "      <td>28.787326</td>\n",
       "      <td>28.563167</td>\n",
       "      <td>28.334684</td>\n",
       "      <td>28.091446</td>\n",
       "      <td>27.834932</td>\n",
       "      <td>27.635669</td>\n",
       "      <td>27.459831</td>\n",
       "      <td>27.330504</td>\n",
       "      <td>27.257871</td>\n",
       "      <td>27.208331</td>\n",
       "    </tr>\n",
       "    <tr>\n",
       "      <th>2</th>\n",
       "      <td>7.887545</td>\n",
       "      <td>8.405002</td>\n",
       "      <td>8.951336</td>\n",
       "      <td>9.530278</td>\n",
       "      <td>10.141678</td>\n",
       "      <td>10.783706</td>\n",
       "      <td>11.456113</td>\n",
       "      <td>12.179323</td>\n",
       "      <td>12.928333</td>\n",
       "      <td>13.722401</td>\n",
       "      <td>...</td>\n",
       "      <td>27.282756</td>\n",
       "      <td>27.096572</td>\n",
       "      <td>26.905977</td>\n",
       "      <td>26.700164</td>\n",
       "      <td>26.480297</td>\n",
       "      <td>26.318682</td>\n",
       "      <td>26.181607</td>\n",
       "      <td>26.090959</td>\n",
       "      <td>26.058088</td>\n",
       "      <td>26.049338</td>\n",
       "    </tr>\n",
       "    <tr>\n",
       "      <th>3</th>\n",
       "      <td>7.438499</td>\n",
       "      <td>7.923516</td>\n",
       "      <td>8.434907</td>\n",
       "      <td>8.976623</td>\n",
       "      <td>9.548492</td>\n",
       "      <td>10.148822</td>\n",
       "      <td>10.777358</td>\n",
       "      <td>11.452972</td>\n",
       "      <td>12.152606</td>\n",
       "      <td>12.893952</td>\n",
       "      <td>...</td>\n",
       "      <td>25.909346</td>\n",
       "      <td>25.756961</td>\n",
       "      <td>25.600061</td>\n",
       "      <td>25.426507</td>\n",
       "      <td>25.237430</td>\n",
       "      <td>25.107885</td>\n",
       "      <td>25.003654</td>\n",
       "      <td>24.945571</td>\n",
       "      <td>24.946527</td>\n",
       "      <td>24.972426</td>\n",
       "    </tr>\n",
       "    <tr>\n",
       "      <th>4</th>\n",
       "      <td>6.966886</td>\n",
       "      <td>7.414571</td>\n",
       "      <td>7.885468</td>\n",
       "      <td>8.383663</td>\n",
       "      <td>8.908921</td>\n",
       "      <td>9.459690</td>\n",
       "      <td>10.035696</td>\n",
       "      <td>10.653625</td>\n",
       "      <td>11.293011</td>\n",
       "      <td>11.969388</td>\n",
       "      <td>...</td>\n",
       "      <td>24.813697</td>\n",
       "      <td>24.688083</td>\n",
       "      <td>24.557600</td>\n",
       "      <td>24.409667</td>\n",
       "      <td>24.245324</td>\n",
       "      <td>24.141406</td>\n",
       "      <td>24.063336</td>\n",
       "      <td>24.031509</td>\n",
       "      <td>24.059568</td>\n",
       "      <td>24.113175</td>\n",
       "    </tr>\n",
       "  </tbody>\n",
       "</table>\n",
       "<p>5 rows × 624 columns</p>\n",
       "</div>"
      ],
      "text/plain": [
       "         y0        y1        y2         y3         y4         y5         y6  \\\n",
       "0  6.794222  7.228232  7.684292   8.166539   8.674713   9.207315   9.764066   \n",
       "1  8.274640  8.819162  9.394571  10.004409  10.648539  11.325015  12.033590   \n",
       "2  7.887545  8.405002  8.951336   9.530278  10.141678  10.783706  11.456113   \n",
       "3  7.438499  7.923516  8.434907   8.976623   9.548492  10.148822  10.777358   \n",
       "4  6.966886  7.414571  7.885468   8.383663   8.908921   9.459690  10.035696   \n",
       "\n",
       "          y7         y8         y9  ...       y614       y615       y616  \\\n",
       "0  10.360843  10.978138  11.630689  ...  24.350423  24.236692  24.117886   \n",
       "1  12.795905  13.585411  14.422596  ...  28.787326  28.563167  28.334684   \n",
       "2  12.179323  12.928333  13.722401  ...  27.282756  27.096572  26.905977   \n",
       "3  11.452972  12.152606  12.893952  ...  25.909346  25.756961  25.600061   \n",
       "4  10.653625  11.293011  11.969388  ...  24.813697  24.688083  24.557600   \n",
       "\n",
       "        y617       y618       y619       y620       y621       y622       y623  \n",
       "0  23.981524  23.828519  23.736233  23.670037  23.650230  23.690600  23.756774  \n",
       "1  28.091446  27.834932  27.635669  27.459831  27.330504  27.257871  27.208331  \n",
       "2  26.700164  26.480297  26.318682  26.181607  26.090959  26.058088  26.049338  \n",
       "3  25.426507  25.237430  25.107885  25.003654  24.945571  24.946527  24.972426  \n",
       "4  24.409667  24.245324  24.141406  24.063336  24.031509  24.059568  24.113175  \n",
       "\n",
       "[5 rows x 624 columns]"
      ]
     },
     "metadata": {},
     "output_type": "display_data"
    }
   ],
   "source": [
    "df_test = emulator.view_test_data()\n",
    "df_mean, df_std = emulator.predict(df_test[inputs], verbose=False)\n",
    "display(df_mean.head())\n",
    "display(df_std.head())"
   ]
  },
  {
   "cell_type": "markdown",
   "metadata": {
    "editable": true,
    "slideshow": {
     "slide_type": "skip"
    },
    "tags": []
   },
   "source": [
    "*** "
   ]
  },
  {
   "cell_type": "markdown",
   "metadata": {
    "editable": true,
    "slideshow": {
     "slide_type": "slide"
    },
    "tags": []
   },
   "source": [
    "### Test the emulator "
   ]
  },
  {
   "cell_type": "code",
   "execution_count": 20,
   "metadata": {
    "editable": true,
    "slideshow": {
     "slide_type": ""
    },
    "tags": []
   },
   "outputs": [],
   "source": [
    "i = np.random.randint(0, df_test.shape[0])\n",
    "\n",
    "if i > len(df_test): \n",
    "    raise ValueError('The index given is out of the range of the test dataframe')\n",
    "\n",
    "df_mean_i = df_mean.iloc[i].values\n",
    "df_std_i = df_std.iloc[i].values\n",
    "df_test_i = df_test.iloc[i,5::].values\n",
    "params = df_test.iloc[i,:5].values"
   ]
  },
  {
   "cell_type": "code",
   "execution_count": 21,
   "metadata": {
    "editable": true,
    "slideshow": {
     "slide_type": "slide"
    },
    "tags": []
   },
   "outputs": [
    {
     "data": {
      "text/plain": [
       "<matplotlib.legend.Legend at 0x11ee097d0>"
      ]
     },
     "execution_count": 21,
     "metadata": {},
     "output_type": "execute_result"
    },
    {
     "data": {
      "image/png": "[encoded data removed]",
      "text/plain": [
       "<Figure size 800x600 with 1 Axes>"
      ]
     },
     "metadata": {},
     "output_type": "display_data"
    }
   ],
   "source": [
    "fig = plt.figure(figsize=(8,6))\n",
    "plt.plot(df_grid[::5], df_test_i[::5],'xr', label='Test data')\n",
    "plt.plot(df_grid, df_mean_i, label='GP Prediction')\n",
    "plt.fill_between(df_grid[0], df_mean_i-2*df_std_i, df_mean_i+2*df_std_i, alpha=0.4)\n",
    "plt.title(f'D(E1={round(params[0],2)},E2={round(params[1],2)},E3={round(params[2],2)}, n1={params[3]:.2e}, n2={params[4]:.2e})')\n",
    "plt.legend()"
   ]
  },
  {
   "cell_type": "markdown",
   "metadata": {},
   "source": [
    "### Calibration Target"
   ]
  },
  {
   "cell_type": "code",
   "execution_count": 22,
   "metadata": {},
   "outputs": [
    {
     "data": {
      "text/html": [
       "<div>\n",
       "<style scoped>\n",
       "    .dataframe tbody tr th:only-of-type {\n",
       "        vertical-align: middle;\n",
       "    }\n",
       "\n",
       "    .dataframe tbody tr th {\n",
       "        vertical-align: top;\n",
       "    }\n",
       "\n",
       "    .dataframe thead th {\n",
       "        text-align: right;\n",
       "    }\n",
       "</style>\n",
       "<table border=\"1\" class=\"dataframe\">\n",
       "  <thead>\n",
       "    <tr style=\"text-align: right;\">\n",
       "      <th></th>\n",
       "      <th>y0</th>\n",
       "      <th>y1</th>\n",
       "      <th>y2</th>\n",
       "      <th>y3</th>\n",
       "      <th>y4</th>\n",
       "      <th>y5</th>\n",
       "      <th>y6</th>\n",
       "      <th>y7</th>\n",
       "      <th>y8</th>\n",
       "      <th>y9</th>\n",
       "      <th>...</th>\n",
       "      <th>y614</th>\n",
       "      <th>y615</th>\n",
       "      <th>y616</th>\n",
       "      <th>y617</th>\n",
       "      <th>y618</th>\n",
       "      <th>y619</th>\n",
       "      <th>y620</th>\n",
       "      <th>y621</th>\n",
       "      <th>y622</th>\n",
       "      <th>y623</th>\n",
       "    </tr>\n",
       "  </thead>\n",
       "  <tbody>\n",
       "    <tr>\n",
       "      <th>33</th>\n",
       "      <td>115.442007</td>\n",
       "      <td>124.461865</td>\n",
       "      <td>134.183181</td>\n",
       "      <td>144.621431</td>\n",
       "      <td>155.785573</td>\n",
       "      <td>167.641051</td>\n",
       "      <td>180.187638</td>\n",
       "      <td>193.937687</td>\n",
       "      <td>208.28799</td>\n",
       "      <td>223.728381</td>\n",
       "      <td>...</td>\n",
       "      <td>108.137326</td>\n",
       "      <td>106.151172</td>\n",
       "      <td>104.165019</td>\n",
       "      <td>102.178866</td>\n",
       "      <td>100.192713</td>\n",
       "      <td>98.20656</td>\n",
       "      <td>96.220406</td>\n",
       "      <td>94.234253</td>\n",
       "      <td>92.2481</td>\n",
       "      <td>90.261947</td>\n",
       "    </tr>\n",
       "  </tbody>\n",
       "</table>\n",
       "<p>1 rows × 624 columns</p>\n",
       "</div>"
      ],
      "text/plain": [
       "            y0          y1          y2          y3          y4          y5  \\\n",
       "33  115.442007  124.461865  134.183181  144.621431  155.785573  167.641051   \n",
       "\n",
       "            y6          y7         y8          y9  ...        y614  \\\n",
       "33  180.187638  193.937687  208.28799  223.728381  ...  108.137326   \n",
       "\n",
       "          y615        y616        y617        y618      y619       y620  \\\n",
       "33  106.151172  104.165019  102.178866  100.192713  98.20656  96.220406   \n",
       "\n",
       "         y621     y622       y623  \n",
       "33  94.234253  92.2481  90.261947  \n",
       "\n",
       "[1 rows x 624 columns]"
      ]
     },
     "execution_count": 22,
     "metadata": {},
     "output_type": "execute_result"
    }
   ],
   "source": [
    "j = np.random.randint(0, df_test.shape[0])\n",
    "target_inputs = df_test[inputs].iloc[j:j+1]\n",
    "target = df_test[outputs].iloc[j:j+1]\n",
    "target"
   ]
  },
  {
   "cell_type": "code",
   "execution_count": 24,
   "metadata": {},
   "outputs": [
    {
     "data": {
      "text/html": [
       "<div>\n",
       "<style scoped>\n",
       "    .dataframe tbody tr th:only-of-type {\n",
       "        vertical-align: middle;\n",
       "    }\n",
       "\n",
       "    .dataframe tbody tr th {\n",
       "        vertical-align: top;\n",
       "    }\n",
       "\n",
       "    .dataframe thead th {\n",
       "        text-align: right;\n",
       "    }\n",
       "</style>\n",
       "<table border=\"1\" class=\"dataframe\">\n",
       "  <thead>\n",
       "    <tr style=\"text-align: right;\">\n",
       "      <th></th>\n",
       "      <th>y0</th>\n",
       "      <th>y1</th>\n",
       "      <th>y2</th>\n",
       "      <th>y3</th>\n",
       "      <th>y4</th>\n",
       "      <th>y5</th>\n",
       "      <th>y6</th>\n",
       "      <th>y7</th>\n",
       "      <th>y8</th>\n",
       "      <th>y9</th>\n",
       "      <th>...</th>\n",
       "      <th>y614</th>\n",
       "      <th>y615</th>\n",
       "      <th>y616</th>\n",
       "      <th>y617</th>\n",
       "      <th>y618</th>\n",
       "      <th>y619</th>\n",
       "      <th>y620</th>\n",
       "      <th>y621</th>\n",
       "      <th>y622</th>\n",
       "      <th>y623</th>\n",
       "    </tr>\n",
       "  </thead>\n",
       "  <tbody>\n",
       "    <tr>\n",
       "      <th>0</th>\n",
       "      <td>0.000084</td>\n",
       "      <td>0.000001</td>\n",
       "      <td>0.000054</td>\n",
       "      <td>0.000011</td>\n",
       "      <td>0.000055</td>\n",
       "      <td>0.000006</td>\n",
       "      <td>0.000007</td>\n",
       "      <td>0.000019</td>\n",
       "      <td>0.000084</td>\n",
       "      <td>0.00003</td>\n",
       "      <td>...</td>\n",
       "      <td>0.000031</td>\n",
       "      <td>0.00008</td>\n",
       "      <td>0.000007</td>\n",
       "      <td>0.000056</td>\n",
       "      <td>0.00002</td>\n",
       "      <td>0.00002</td>\n",
       "      <td>0.000008</td>\n",
       "      <td>0.000024</td>\n",
       "      <td>0.000096</td>\n",
       "      <td>0.000062</td>\n",
       "    </tr>\n",
       "  </tbody>\n",
       "</table>\n",
       "<p>1 rows × 624 columns</p>\n",
       "</div>"
      ],
      "text/plain": [
       "         y0        y1        y2        y3        y4        y5        y6  \\\n",
       "0  0.000084  0.000001  0.000054  0.000011  0.000055  0.000006  0.000007   \n",
       "\n",
       "         y7        y8       y9  ...      y614     y615      y616      y617  \\\n",
       "0  0.000019  0.000084  0.00003  ...  0.000031  0.00008  0.000007  0.000056   \n",
       "\n",
       "      y618     y619      y620      y621      y622      y623  \n",
       "0  0.00002  0.00002  0.000008  0.000024  0.000096  0.000062  \n",
       "\n",
       "[1 rows x 624 columns]"
      ]
     },
     "execution_count": 24,
     "metadata": {},
     "output_type": "execute_result"
    }
   ],
   "source": [
    "target_std = pd.DataFrame(np.random.uniform(0, 1e-4, target[outputs].shape), columns = outputs)\n",
    "target_std"
   ]
  },
  {
   "cell_type": "markdown",
   "metadata": {},
   "source": [
    "### Calibration Processes\n"
   ]
  },
  {
   "cell_type": "code",
   "execution_count": 26,
   "metadata": {},
   "outputs": [
    {
     "data": {
      "text/html": [
       "<div>\n",
       "<style scoped>\n",
       "    .dataframe tbody tr th:only-of-type {\n",
       "        vertical-align: middle;\n",
       "    }\n",
       "\n",
       "    .dataframe tbody tr th {\n",
       "        vertical-align: top;\n",
       "    }\n",
       "\n",
       "    .dataframe thead th {\n",
       "        text-align: right;\n",
       "    }\n",
       "</style>\n",
       "<table border=\"1\" class=\"dataframe\">\n",
       "  <thead>\n",
       "    <tr style=\"text-align: right;\">\n",
       "      <th></th>\n",
       "      <th>y0</th>\n",
       "      <th>y1</th>\n",
       "      <th>y2</th>\n",
       "      <th>y3</th>\n",
       "      <th>y4</th>\n",
       "      <th>y5</th>\n",
       "      <th>y6</th>\n",
       "      <th>y7</th>\n",
       "      <th>y8</th>\n",
       "      <th>y9</th>\n",
       "      <th>...</th>\n",
       "      <th>y614</th>\n",
       "      <th>y615</th>\n",
       "      <th>y616</th>\n",
       "      <th>y617</th>\n",
       "      <th>y618</th>\n",
       "      <th>y619</th>\n",
       "      <th>y620</th>\n",
       "      <th>y621</th>\n",
       "      <th>y622</th>\n",
       "      <th>y623</th>\n",
       "    </tr>\n",
       "  </thead>\n",
       "  <tbody>\n",
       "    <tr>\n",
       "      <th>33</th>\n",
       "      <td>115.442007</td>\n",
       "      <td>124.461865</td>\n",
       "      <td>134.183181</td>\n",
       "      <td>144.621431</td>\n",
       "      <td>155.785573</td>\n",
       "      <td>167.641051</td>\n",
       "      <td>180.187638</td>\n",
       "      <td>193.937687</td>\n",
       "      <td>208.28799</td>\n",
       "      <td>223.728381</td>\n",
       "      <td>...</td>\n",
       "      <td>108.137326</td>\n",
       "      <td>106.151172</td>\n",
       "      <td>104.165019</td>\n",
       "      <td>102.178866</td>\n",
       "      <td>100.192713</td>\n",
       "      <td>98.20656</td>\n",
       "      <td>96.220406</td>\n",
       "      <td>94.234253</td>\n",
       "      <td>92.2481</td>\n",
       "      <td>90.261947</td>\n",
       "    </tr>\n",
       "  </tbody>\n",
       "</table>\n",
       "<p>1 rows × 624 columns</p>\n",
       "</div>"
      ],
      "text/plain": [
       "            y0          y1          y2          y3          y4          y5  \\\n",
       "33  115.442007  124.461865  134.183181  144.621431  155.785573  167.641051   \n",
       "\n",
       "            y6          y7         y8          y9  ...        y614  \\\n",
       "33  180.187638  193.937687  208.28799  223.728381  ...  108.137326   \n",
       "\n",
       "          y615        y616        y617        y618      y619       y620  \\\n",
       "33  106.151172  104.165019  102.178866  100.192713  98.20656  96.220406   \n",
       "\n",
       "         y621     y622       y623  \n",
       "33  94.234253  92.2481  90.261947  \n",
       "\n",
       "[1 rows x 624 columns]"
      ]
     },
     "execution_count": 26,
     "metadata": {},
     "output_type": "execute_result"
    }
   ],
   "source": [
    "target"
   ]
  },
  {
   "cell_type": "code",
   "execution_count": 27,
   "metadata": {},
   "outputs": [
    {
     "data": {
      "text/html": [
       "<div>\n",
       "<style scoped>\n",
       "    .dataframe tbody tr th:only-of-type {\n",
       "        vertical-align: middle;\n",
       "    }\n",
       "\n",
       "    .dataframe tbody tr th {\n",
       "        vertical-align: top;\n",
       "    }\n",
       "\n",
       "    .dataframe thead th {\n",
       "        text-align: right;\n",
       "    }\n",
       "</style>\n",
       "<table border=\"1\" class=\"dataframe\">\n",
       "  <thead>\n",
       "    <tr style=\"text-align: right;\">\n",
       "      <th></th>\n",
       "      <th>y0</th>\n",
       "      <th>y1</th>\n",
       "      <th>y2</th>\n",
       "      <th>y3</th>\n",
       "      <th>y4</th>\n",
       "      <th>y5</th>\n",
       "      <th>y6</th>\n",
       "      <th>y7</th>\n",
       "      <th>y8</th>\n",
       "      <th>y9</th>\n",
       "      <th>...</th>\n",
       "      <th>y614</th>\n",
       "      <th>y615</th>\n",
       "      <th>y616</th>\n",
       "      <th>y617</th>\n",
       "      <th>y618</th>\n",
       "      <th>y619</th>\n",
       "      <th>y620</th>\n",
       "      <th>y621</th>\n",
       "      <th>y622</th>\n",
       "      <th>y623</th>\n",
       "    </tr>\n",
       "  </thead>\n",
       "  <tbody>\n",
       "    <tr>\n",
       "      <th>0</th>\n",
       "      <td>0.000084</td>\n",
       "      <td>0.000001</td>\n",
       "      <td>0.000054</td>\n",
       "      <td>0.000011</td>\n",
       "      <td>0.000055</td>\n",
       "      <td>0.000006</td>\n",
       "      <td>0.000007</td>\n",
       "      <td>0.000019</td>\n",
       "      <td>0.000084</td>\n",
       "      <td>0.00003</td>\n",
       "      <td>...</td>\n",
       "      <td>0.000031</td>\n",
       "      <td>0.00008</td>\n",
       "      <td>0.000007</td>\n",
       "      <td>0.000056</td>\n",
       "      <td>0.00002</td>\n",
       "      <td>0.00002</td>\n",
       "      <td>0.000008</td>\n",
       "      <td>0.000024</td>\n",
       "      <td>0.000096</td>\n",
       "      <td>0.000062</td>\n",
       "    </tr>\n",
       "  </tbody>\n",
       "</table>\n",
       "<p>1 rows × 624 columns</p>\n",
       "</div>"
      ],
      "text/plain": [
       "         y0        y1        y2        y3        y4        y5        y6  \\\n",
       "0  0.000084  0.000001  0.000054  0.000011  0.000055  0.000006  0.000007   \n",
       "\n",
       "         y7        y8       y9  ...      y614     y615      y616      y617  \\\n",
       "0  0.000019  0.000084  0.00003  ...  0.000031  0.00008  0.000007  0.000056   \n",
       "\n",
       "      y618     y619      y620      y621      y622      y623  \n",
       "0  0.00002  0.00002  0.000008  0.000024  0.000096  0.000062  \n",
       "\n",
       "[1 rows x 624 columns]"
      ]
     },
     "execution_count": 27,
     "metadata": {},
     "output_type": "execute_result"
    }
   ],
   "source": [
    "target_std"
   ]
  },
  {
   "cell_type": "code",
   "execution_count": 28,
   "metadata": {},
   "outputs": [
    {
     "name": "stdout",
     "output_type": "stream",
     "text": [
      "Non-success status code\n"
     ]
    },
    {
     "ename": "Exception",
     "evalue": "Error Code: 500 - {'detail': \"OverflowError: (34, 'Numerical result out of range')\"}",
     "output_type": "error",
     "traceback": [
      "\u001b[0;31m---------------------------------------------------------------------------\u001b[0m",
      "\u001b[0;31mException\u001b[0m                                 Traceback (most recent call last)",
      "Cell \u001b[0;32mIn[28], line 1\u001b[0m\n\u001b[0;32m----> 1\u001b[0m result \u001b[38;5;241m=\u001b[39m \u001b[43memulator\u001b[49m\u001b[38;5;241;43m.\u001b[39;49m\u001b[43mcalibrate\u001b[49m\u001b[43m(\u001b[49m\n\u001b[1;32m      2\u001b[0m \u001b[43m    \u001b[49m\u001b[43mdf_obs\u001b[49m\u001b[43m \u001b[49m\u001b[38;5;241;43m=\u001b[39;49m\u001b[43m \u001b[49m\u001b[43mtarget\u001b[49m\u001b[43m,\u001b[49m\n\u001b[1;32m      3\u001b[0m \u001b[43m    \u001b[49m\u001b[43mdf_std\u001b[49m\u001b[43m \u001b[49m\u001b[38;5;241;43m=\u001b[39;49m\u001b[43m \u001b[49m\u001b[43mtarget_std\u001b[49m\n\u001b[1;32m      4\u001b[0m \u001b[43m)\u001b[49m\n\u001b[1;32m      5\u001b[0m result\n",
      "File \u001b[0;32m~/Library/Caches/pypoetry/virtualenvs/fusion-energy-8J9wMJAJ-py3.11/lib/python3.11/site-packages/twinlab/emulator.py:1070\u001b[0m, in \u001b[0;36mcalibrate\u001b[0;34m(self, df_obs, df_std, params, wait, verbose)\u001b[0m\n\u001b[1;32m   1068\u001b[0m \u001b[38;5;28;01mif\u001b[39;00m \u001b[38;5;129;01mnot\u001b[39;00m wait:\n\u001b[1;32m   1069\u001b[0m     \u001b[38;5;28;01mreturn\u001b[39;00m process_id\n\u001b[0;32m-> 1070\u001b[0m _, response \u001b[38;5;241m=\u001b[39m \u001b[43m_wait_for_job_completion\u001b[49m\u001b[43m(\u001b[49m\n\u001b[1;32m   1071\u001b[0m \u001b[43m    \u001b[49m\u001b[38;5;28;43mself\u001b[39;49m\u001b[38;5;241;43m.\u001b[39;49m\u001b[43mid\u001b[49m\u001b[43m,\u001b[49m\u001b[43m \u001b[49m\u001b[43mAPI_METHOD\u001b[49m\u001b[43m,\u001b[49m\u001b[43m \u001b[49m\u001b[43mprocess_id\u001b[49m\u001b[43m,\u001b[49m\u001b[43m \u001b[49m\u001b[43mverbose\u001b[49m\u001b[38;5;241;43m=\u001b[39;49m\u001b[43mverbose\u001b[49m\n\u001b[1;32m   1072\u001b[0m \u001b[43m\u001b[49m\u001b[43m)\u001b[49m\n\u001b[1;32m   1073\u001b[0m csv \u001b[38;5;241m=\u001b[39m utils\u001b[38;5;241m.\u001b[39mget_value_from_body(\u001b[38;5;124m\"\u001b[39m\u001b[38;5;124mdataframe\u001b[39m\u001b[38;5;124m\"\u001b[39m, response)\n\u001b[1;32m   1074\u001b[0m csv \u001b[38;5;241m=\u001b[39m io\u001b[38;5;241m.\u001b[39mStringIO(csv)\n",
      "File \u001b[0;32m~/Library/Caches/pypoetry/virtualenvs/fusion-energy-8J9wMJAJ-py3.11/lib/python3.11/site-packages/twinlab/emulator.py:104\u001b[0m, in \u001b[0;36m_wait_for_job_completion\u001b[0;34m(model_id, method, process_id, verbose)\u001b[0m\n\u001b[1;32m    102\u001b[0m wait_time \u001b[38;5;241m=\u001b[39m _calculate_ping_time(elapsed_time)\n\u001b[1;32m    103\u001b[0m time\u001b[38;5;241m.\u001b[39msleep(wait_time)\n\u001b[0;32m--> 104\u001b[0m status, body \u001b[38;5;241m=\u001b[39m \u001b[43mapi\u001b[49m\u001b[38;5;241;43m.\u001b[39;49m\u001b[43muse_response_model\u001b[49m\u001b[43m(\u001b[49m\n\u001b[1;32m    105\u001b[0m \u001b[43m    \u001b[49m\u001b[43mmodel_id\u001b[49m\u001b[38;5;241;43m=\u001b[39;49m\u001b[43mmodel_id\u001b[49m\u001b[43m,\u001b[49m\n\u001b[1;32m    106\u001b[0m \u001b[43m    \u001b[49m\u001b[43mmethod\u001b[49m\u001b[38;5;241;43m=\u001b[39;49m\u001b[43mmethod\u001b[49m\u001b[43m,\u001b[49m\n\u001b[1;32m    107\u001b[0m \u001b[43m    \u001b[49m\u001b[43mprocess_id\u001b[49m\u001b[38;5;241;43m=\u001b[39;49m\u001b[43mprocess_id\u001b[49m\u001b[43m,\u001b[49m\n\u001b[1;32m    108\u001b[0m \u001b[43m    \u001b[49m\u001b[43mverbose\u001b[49m\u001b[38;5;241;43m=\u001b[39;49m\u001b[43mDEBUG\u001b[49m\u001b[43m,\u001b[49m\n\u001b[1;32m    109\u001b[0m \u001b[43m\u001b[49m\u001b[43m)\u001b[49m\n\u001b[1;32m    110\u001b[0m \u001b[38;5;28;01mif\u001b[39;00m verbose:\n\u001b[1;32m    111\u001b[0m     message \u001b[38;5;241m=\u001b[39m _get_response_message(body)\n",
      "File \u001b[0;32m~/Library/Caches/pypoetry/virtualenvs/fusion-energy-8J9wMJAJ-py3.11/lib/python3.11/site-packages/twinlab/api.py:35\u001b[0m, in \u001b[0;36mcheck_status_code.<locals>.wrapper\u001b[0;34m(*args, **kwargs)\u001b[0m\n\u001b[1;32m     33\u001b[0m \u001b[38;5;28;01mif\u001b[39;00m \u001b[38;5;129;01mnot\u001b[39;00m \u001b[38;5;28mstr\u001b[39m(status)\u001b[38;5;241m.\u001b[39mstartswith(\u001b[38;5;124m\"\u001b[39m\u001b[38;5;124m2\u001b[39m\u001b[38;5;124m\"\u001b[39m):\n\u001b[1;32m     34\u001b[0m     \u001b[38;5;28mprint\u001b[39m(\u001b[38;5;124m\"\u001b[39m\u001b[38;5;124mNon-success status code\u001b[39m\u001b[38;5;124m\"\u001b[39m)\n\u001b[0;32m---> 35\u001b[0m     \u001b[38;5;28;01mraise\u001b[39;00m \u001b[38;5;167;01mException\u001b[39;00m(\u001b[38;5;124mf\u001b[39m\u001b[38;5;124m\"\u001b[39m\u001b[38;5;124mError Code: \u001b[39m\u001b[38;5;132;01m{\u001b[39;00mstatus\u001b[38;5;132;01m}\u001b[39;00m\u001b[38;5;124m - \u001b[39m\u001b[38;5;132;01m{\u001b[39;00mbody\u001b[38;5;132;01m}\u001b[39;00m\u001b[38;5;124m\"\u001b[39m)\n\u001b[1;32m     36\u001b[0m \u001b[38;5;28;01mreturn\u001b[39;00m status, body\n",
      "\u001b[0;31mException\u001b[0m: Error Code: 500 - {'detail': \"OverflowError: (34, 'Numerical result out of range')\"}"
     ]
    }
   ],
   "source": [
    "result = emulator.calibrate(\n",
    "    df_obs = target,\n",
    "    df_std = target_std\n",
    ")\n",
    "result"
   ]
  },
  {
   "cell_type": "markdown",
   "metadata": {
    "editable": true,
    "slideshow": {
     "slide_type": "skip"
    },
    "tags": []
   },
   "source": [
    "# Load the streamlit App"
   ]
  },
  {
   "cell_type": "code",
   "execution_count": null,
   "metadata": {
    "editable": true,
    "slideshow": {
     "slide_type": "skip"
    },
    "tags": []
   },
   "outputs": [],
   "source": [
    "# !streamlit run app.py"
   ]
  },
  {
   "cell_type": "code",
   "execution_count": null,
   "metadata": {},
   "outputs": [],
   "source": []
  },
  {
   "cell_type": "code",
   "execution_count": null,
   "metadata": {},
   "outputs": [],
   "source": []
  },
  {
   "cell_type": "code",
   "execution_count": null,
   "metadata": {},
   "outputs": [],
   "source": []
  }
 ],
 "metadata": {
  "kernelspec": {
   "display_name": "Python 3 (ipykernel)",
   "language": "python",
   "name": "python3"
  },
  "language_info": {
   "codemirror_mode": {
    "name": "ipython",
    "version": 3
   },
   "file_extension": ".py",
   "mimetype": "text/x-python",
   "name": "python",
   "nbconvert_exporter": "python",
   "pygments_lexer": "ipython3",
   "version": "3.11.9"
  },
  "vscode": {
   "interpreter": {
    "hash": "8b4841770c9e34caa6ae18daa4abc2a1f1538c85b37a4e54ebb9908de806c0dc"
   }
  }
 },
 "nbformat": 4,
 "nbformat_minor": 4
}
